{
 "cells": [
  {
   "cell_type": "code",
   "execution_count": 4,
   "metadata": {},
   "outputs": [
    {
     "name": "stdout",
     "output_type": "stream",
     "text": [
      "def is_prime(n):\n",
      "    if n <= 1:\n",
      "        return False\n",
      "    elif n <= 3:\n",
      "        return True\n",
      "    elif n % 2 == 0 or n % 3 == 0:\n",
      "        return False\n",
      "    i = 5\n",
      "    while i * i <= n:\n",
      "        if n % i == 0 or n % (i + 2) == 0:\n",
      "            return False\n",
      "        i += 6\n",
      "    return True\n",
      "\n",
      "primes = [num for num in range(2, 101) if is_prime(num)]\n",
      "print(primes)\n"
     ]
    }
   ],
   "source": [
    "import json\n",
    "import requests\n",
    "\n",
    "url = \"http://localhost:11434/api/generate\"\n",
    "headers = {\"Content-Type\": \"application/json\"}\n",
    "\n",
    "def s(text):\n",
    "    prompt = f\"\"\"you are skilled programmer. generate a only python code(just code no extra text or explanation, do not include python text before code) for \n",
    "    {text} upto 100\n",
    "    \"\"\"\n",
    "    data = {\"model\": \"llama3.2-vision:latest\", \"prompt\": prompt, \"stream\": False}\n",
    "\n",
    "    response = requests.post(url, headers=headers, data=json.dumps(data))\n",
    "    \n",
    "    response_json = response.json()\n",
    "    summary = response_json.get(\"response\", \"No response found\")\n",
    "    return summary\n",
    "\n",
    "text = \"prime numbers\"\n",
    "code = s(text)\n",
    "print(code)"
   ]
  },
  {
   "cell_type": "code",
   "execution_count": 5,
   "metadata": {},
   "outputs": [
    {
     "ename": "NameError",
     "evalue": "name 'file' is not defined",
     "output_type": "error",
     "traceback": [
      "\u001b[1;31m---------------------------------------------------------------------------\u001b[0m",
      "\u001b[1;31mNameError\u001b[0m                                 Traceback (most recent call last)",
      "Cell \u001b[1;32mIn[5], line 33\u001b[0m\n\u001b[0;32m     10\u001b[0m     \u001b[38;5;28;01mreturn\u001b[39;00m summary\n\u001b[0;32m     12\u001b[0m text \u001b[38;5;241m=\u001b[39m \u001b[38;5;124m\"\"\"\u001b[39m\u001b[38;5;124m if i give you a companies SF330 are you able to segregate each and every aspect\u001b[39m\n\u001b[0;32m     13\u001b[0m \u001b[38;5;124m **Company Information**\u001b[39m\n\u001b[0;32m     14\u001b[0m \n\u001b[1;32m   (...)\u001b[0m\n\u001b[0;32m     31\u001b[0m \u001b[38;5;124m* Staffing and Organizational Structure\u001b[39m\n\u001b[0;32m     32\u001b[0m \u001b[38;5;124m\"\"\"\u001b[39m\n\u001b[1;32m---> 33\u001b[0m code \u001b[38;5;241m=\u001b[39m \u001b[43ms\u001b[49m\u001b[43m(\u001b[49m\u001b[43mtext\u001b[49m\u001b[43m)\u001b[49m\n\u001b[0;32m     34\u001b[0m \u001b[38;5;28mprint\u001b[39m(code)\n",
      "Cell \u001b[1;32mIn[5], line 2\u001b[0m, in \u001b[0;36ms\u001b[1;34m(text)\u001b[0m\n\u001b[0;32m      1\u001b[0m \u001b[38;5;28;01mdef\u001b[39;00m \u001b[38;5;21ms\u001b[39m(text):\n\u001b[1;32m----> 2\u001b[0m     prompt \u001b[38;5;241m=\u001b[39m \u001b[38;5;124mf\u001b[39m\u001b[38;5;124m\"\"\"\u001b[39m\u001b[38;5;132;01m{\u001b[39;00mtext\u001b[38;5;132;01m}\u001b[39;00m\u001b[38;5;124m \u001b[39m\u001b[38;5;132;01m{\u001b[39;00m\u001b[43mfile\u001b[49m\u001b[38;5;132;01m}\u001b[39;00m\u001b[38;5;124m \u001b[39m\n\u001b[0;32m      3\u001b[0m \u001b[38;5;124m    \u001b[39m\u001b[38;5;124m\"\"\"\u001b[39m\n\u001b[0;32m      4\u001b[0m     data \u001b[38;5;241m=\u001b[39m {\u001b[38;5;124m\"\u001b[39m\u001b[38;5;124mmodel\u001b[39m\u001b[38;5;124m\"\u001b[39m: \u001b[38;5;124m\"\u001b[39m\u001b[38;5;124mllama3.2-vision:latest\u001b[39m\u001b[38;5;124m\"\u001b[39m, \u001b[38;5;124m\"\u001b[39m\u001b[38;5;124mprompt\u001b[39m\u001b[38;5;124m\"\u001b[39m: prompt, \u001b[38;5;124m\"\u001b[39m\u001b[38;5;124mstream\u001b[39m\u001b[38;5;124m\"\u001b[39m: \u001b[38;5;28;01mFalse\u001b[39;00m}\n\u001b[0;32m      6\u001b[0m     response \u001b[38;5;241m=\u001b[39m requests\u001b[38;5;241m.\u001b[39mpost(url, headers\u001b[38;5;241m=\u001b[39mheaders, data\u001b[38;5;241m=\u001b[39mjson\u001b[38;5;241m.\u001b[39mdumps(data))\n",
      "\u001b[1;31mNameError\u001b[0m: name 'file' is not defined"
     ]
    }
   ],
   "source": [
    "def s(text):\n",
    "    prompt = f\"\"\"{text} {file} \n",
    "    \"\"\"\n",
    "    data = {\"model\": \"llama3.2-vision:latest\", \"prompt\": prompt, \"stream\": False}\n",
    "\n",
    "    response = requests.post(url, headers=headers, data=json.dumps(data))\n",
    "    \n",
    "    response_json = response.json()\n",
    "    summary = response_json.get(\"response\", \"No response found\")\n",
    "    return summary\n",
    "\n",
    "text = \"\"\" if i give you a companies SF330 are you able to segregate each and every aspect\n",
    " **Company Information**\n",
    "\n",
    "* Company Overview\n",
    "\t+ Company Name\n",
    "\t+ Contact Information (Address, Phone, Email)\n",
    "\t+ Brief Description of Services\n",
    "* Professional Experience and Qualifications\n",
    "\t+ Certifications/Licenses\n",
    "\t+ Education Background\n",
    "\t+ Work Experience\n",
    "* Past Performance\n",
    "\t+ Relevant Projects\n",
    "\t+ Contracts\n",
    "\t+ References\n",
    "* Expertise and Capabilities\n",
    "\t+ Service Offerings\n",
    "\t+ Technical Expertise\n",
    "\t+ Business Areas\n",
    "* Staffing and Organizational Structure\n",
    "\"\"\"\n",
    "code = s(text)\n",
    "print(code)"
   ]
  }
 ],
 "metadata": {
  "kernelspec": {
   "display_name": ".venv",
   "language": "python",
   "name": "python3"
  },
  "language_info": {
   "codemirror_mode": {
    "name": "ipython",
    "version": 3
   },
   "file_extension": ".py",
   "mimetype": "text/x-python",
   "name": "python",
   "nbconvert_exporter": "python",
   "pygments_lexer": "ipython3",
   "version": "3.12.4"
  }
 },
 "nbformat": 4,
 "nbformat_minor": 2
}
