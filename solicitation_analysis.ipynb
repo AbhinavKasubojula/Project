{
 "cells": [
  {
   "cell_type": "code",
   "execution_count": null,
   "metadata": {},
   "outputs": [],
   "source": [
    "def s(text):\n",
    "    prompt = f\"\"\"{text} {file} \n",
    "    \"\"\"\n",
    "    data = {\"model\": \"llama3.2-vision:latest\", \"prompt\": prompt, \"stream\": False}\n",
    "\n",
    "    response = requests.post(url, headers=headers, data=json.dumps(data))\n",
    "    \n",
    "    response_json = response.json()\n",
    "    summary = response_json.get(\"response\", \"No response found\")\n",
    "    return summary\n",
    "\n",
    "text = \"\"\" if i give you a companies SF330 are you able to segregate each and every aspect\n",
    " **Company Information**\n",
    "\n",
    "* Company Overview\n",
    "\t+ Company Name\n",
    "\t+ Contact Information (Address, Phone, Email)\n",
    "\t+ Brief Description of Services\n",
    "* Professional Experience and Qualifications\n",
    "\t+ Certifications/Licenses\n",
    "\t+ Education Background\n",
    "\t+ Work Experience\n",
    "* Past Performance\n",
    "\t+ Relevant Projects\n",
    "\t+ Contracts\n",
    "\t+ References\n",
    "* Expertise and Capabilities\n",
    "\t+ Service Offerings\n",
    "\t+ Technical Expertise\n",
    "\t+ Business Areas\n",
    "* Staffing and Organizational Structure\n",
    "\"\"\"\n",
    "code = s(text)\n",
    "print(code)"
   ]
  },
  {
   "cell_type": "code",
   "execution_count": 3,
   "metadata": {},
   "outputs": [],
   "source": [
    "import os\n",
    "import re\n",
    "import pytesseract\n",
    "from pdf2image import convert_from_path\n",
    "import ollama\n"
   ]
  },
  {
   "cell_type": "code",
   "execution_count": 4,
   "metadata": {},
   "outputs": [],
   "source": [
    "pdf_directory = \"C:/Users/AbhinavKasubojula/OneDrive - Kenall Inc/Desktop/code/kenall_docs/\"\n",
    "\n",
    "# Extract text from a PDF using OCR\n",
    "def extract_text_from_pdf(pdf_path):\n",
    "    try:\n",
    "        images = convert_from_path(pdf_path)  # Convert PDF to images\n",
    "        text = \"\"\n",
    "        for page_num, image in enumerate(images):\n",
    "            text += pytesseract.image_to_string(image)  # OCR on the image\n",
    "            print(f\"Extracted text from page {page_num + 1} of {os.path.basename(pdf_path)}...\")\n",
    "        return text\n",
    "    except Exception as e:\n",
    "        print(f\"Error extracting text from {pdf_path}: {e}\")\n",
    "        return None\n",
    "def remove_asterisks(text):\n",
    "    # Remove all occurrences of single and double asterisks\n",
    "    clean_text = re.sub(r\"\\*{1,2}\", \"\", text)\n",
    "    return clean_text\n",
    "def normalize_data(data):\n",
    "    \"\"\"\n",
    "    Normalize dictionary keys and values by removing unwanted characters and whitespace.\n",
    "    \"\"\"\n",
    "    normalized_data = []\n",
    "    for record in data:\n",
    "        if isinstance(record, dict):\n",
    "            normalized_record = {clean_text(key): clean_text(value) for key, value in record.items()}\n",
    "            normalized_data.append(normalized_record)\n",
    "        else:\n",
    "            print(f\"Warning: Expected a dictionary but got {type(record)}\")\n",
    "    return normalized_data\n",
    "\n",
    "def process():\n",
    "    pdf_files = [f for f in os.listdir(pdf_directory) if f.endswith(\".pdf\")]\n",
    "    for pdf_file in pdf_files:\n",
    "        pdf_path = os.path.join(pdf_directory, pdf_file)\n",
    "        print(f\"Processing: {pdf_file}\")\n",
    "        \n",
    "        # Extract text from the PDF\n",
    "        text = extract_text_from_pdf(pdf_path)\n",
    "        text = remove_asterisks(text)\n",
    "        text = normalize_data(text)\n",
    "\n",
    "    return(text)"
   ]
  },
  {
   "cell_type": "code",
   "execution_count": null,
   "metadata": {},
   "outputs": [],
   "source": [
    "pdf_files = [f for f in os.listdir(pdf_directory) if f.endswith(\".pdf\")]\n",
    "for pdf_file in pdf_files:\n",
    "    pdf_path = os.path.join(pdf_directory, pdf_file)\n",
    "    print(f\"Processing: {pdf_path}\")\n",
    "    text = extract_text_from_pdf(pdf_path)\n",
    "    print(text)"
   ]
  },
  {
   "cell_type": "code",
   "execution_count": null,
   "metadata": {},
   "outputs": [],
   "source": [
    "# An example prompt\n",
    "\n",
    "\n",
    "prompt = \"\"\" \n",
    "you are expert in sorting things out with analizing solicitaions bringing up new projects, with exalent proposal writing.\n",
    "here is a solicitation text you need to analyse the 1.purpose of the solicitation. 2.resources need to complete that project most effectivly. 3.engineers required. 4.importtant dates.\n",
    " **Company Information**\n",
    "\n",
    "* Company Overview\n",
    "\t+ Company Name\n",
    "\t+ Contact Information (Address, Phone, Email)\n",
    "\t+ Brief Description of Services\n",
    "* Professional Experience and Qualifications\n",
    "\t+ Certifications/Licenses\n",
    "\t+ Education Background\n",
    "\t+ Work Experience\n",
    "* Past Performance\n",
    "\t+ Relevant Projects\n",
    "\t+ Contracts\n",
    "\t+ References\n",
    "* Expertise and Capabilities\n",
    "\t+ Service Offerings\n",
    "\t+ Technical Expertise\n",
    "\t+ Business Areas\n",
    "* Staffing and Organizational Structure\n",
    "\"\"\"\n",
    "\n",
    "# Generate an embedding for the prompt and retrieve the most relevant doc\n",
    "response = ollama.embeddings(\n",
    "  model = \"llama3\",\n",
    "  prompt = prompt,\n",
    ")\n",
    "\n",
    "prompt_template = f\"Using this data: {text}. Respond to this prompt: {prompt}\"\n",
    "# Generate a response combining the prompt and data we retrieved in step 2\n",
    "output = ollama.generate(\n",
    "  model = \"llama3\",\n",
    "  prompt = prompt_template,\n",
    ")\n",
    "summary = output['response']\n",
    "print(summary)"
   ]
  },
  {
   "cell_type": "code",
   "execution_count": 21,
   "metadata": {},
   "outputs": [
    {
     "name": "stderr",
     "output_type": "stream",
     "text": [
      "c:\\Users\\AbhinavKasubojula\\OneDrive - Kenall Inc\\Desktop\\code\\.venv\\Lib\\site-packages\\sentence_transformers\\cross_encoder\\CrossEncoder.py:13: TqdmWarning: IProgress not found. Please update jupyter and ipywidgets. See https://ipywidgets.readthedocs.io/en/stable/user_install.html\n",
      "  from tqdm.autonotebook import tqdm, trange\n"
     ]
    }
   ],
   "source": [
    "import weaviate\n",
    "import weaviate.classes as wvc\n",
    "from weaviate.classes.config import Property, DataType\n",
    "from sentence_transformers import SentenceTransformer"
   ]
  },
  {
   "cell_type": "code",
   "execution_count": 22,
   "metadata": {},
   "outputs": [],
   "source": [
    "model = SentenceTransformer('multi-qa-MiniLM-L6-cos-v1')\n",
    "\n",
    "def compute_embeddings(documents):\n",
    "    embeddings = model.encode(documents, convert_to_tensor=False)\n",
    "    return embeddings"
   ]
  },
  {
   "cell_type": "code",
   "execution_count": 30,
   "metadata": {},
   "outputs": [
    {
     "name": "stdout",
     "output_type": "stream",
     "text": [
      "10\n",
      "{'name': 'Sam Sahai', 'company': 'SAT-Kenall JV, Houston, TX ', 'qualification': ' - Expertise with various software and technologies including AutoCAD, Civil-3D, InRoads, GEOPAK, MicroStation, HEC-1, XPSWMM, HEC-HMS, HEC-GEOHMS, HEC-GeoRAS, HEC-FDA, and ArcGIS - Proficient in seismic evaluations and rehabilitation as per ASCE 31 and 41 ', 'roles_responsibilities': None, 'summary': 'Summarized Resume for Sam Sahai\\n\\nName: Sam Sahai\\nRole: Senior Civil Engineer\\nCompany: SAT-Kenall JV, Houston, TX\\n\\nEducation:\\n- Degree and Specialization: MS, Civil Engineering (1992)\\n- Professional Registration: PE (Civil): FL #53819, KY #10058, LA #25522, MS #20462, NC #38457, SC #19275, VA #37158, AL #12621, AR #9648, TN\\n\\nLicenses:\\n- PE (Civil) licenses in multiple states\\n- Other professional qualifications:\\n  - ACEC\\n  - ASCE\\n  - SAME\\n\\nQualifications:\\n- Expertise with various software and technologies including AutoCAD, Civil-3D, InRoads, GEOPAK, MicroStation, HEC-1, XPSWMM, HEC-HMS, HEC-GEOHMS, HEC-GeoRAS, HEC-FDA, and ArcGIS\\n- Proficient in seismic evaluations and rehabilitation as per ASCE 31 and 41\\n\\nExperience:\\n- 45 years of experience in civil and structural engineering services\\n- Experience with clients including USACE, USDA-NRCS, NAVFAC Southeast, USFS, USFWS & IBWC\\n\\nProjects:\\n\\n1. USACE Fort Worth District - Repair Fire Protection, Install Security Fences PROFESSIONAL sERvices\\n   - Year completed: 2021\\n   - Specific role: Senior Civil Engineer\\n   - Brief description: Led civil design and DB and DBB RFP packages for 15 sites\\n\\n2. AE Services for DBB for Rehabilitation of B-255, Dormitories, Laughlin AFB, TX\\n   - Year completed: 2022 (est.)\\n   - Specific role: Senior Civil Engineer\\n   - Brief description: Led development of EISA-compliant design and DBB package for storm water\\n\\n3. USACE Fort Worth District - Design of Tactical Equipment Maintenance Facility (TEMF) Renovations at Fort Hood, TX\\n   - Year completed: 2019\\n   - Specific role: Senior Civil Engineer\\n   - Brief description: Led civil design QC for separate plans and specifications packages\\n\\n4. Camp Blanding Regional Training Institute (RTI) Site Campus Master Plan, Design, and Engineering During Construction [Florida ARNG], Starke, FL\\n   - Year completed: 2012\\n   - Specific role: Senior Civil Engineer\\n   - Brief description: Designed for the Florida Army National Guard Regional Training Institute', 'role': 'Senior Civil Engineer', 'experience': ' - 45 years of experience in civil and structural engineering services - Experience with clients including USACE, USDA-NRCS, NAVFAC Southeast, USFS, USFWS & IBWC ', 'projects': '  1. USACE Fort Worth District - Repair Fire Protection, Install Security Fences PROFESSIONAL sERvices'}\n",
      "{'name': 'Bharat Banda', 'company': 'SAI-Kenall JV, Houston, TX ', 'qualification': '  Over 5 years of experience in structural and civil engineering Specialization in hydrologic, hydraulic, and scour engineering for bridge and stream channel design Sound knowledge in USACE Engineering Manuals, NRCS Handbooks, Manuals and Guides, and FHWA Experienced in software applications including AutoCAD, Micro Station, Revit, ArcGIS, etc. ', 'roles_responsibilities': None, 'summary': 'Here is a summarized version of the resume, with the requested structure:\\n\\nName: Bharat Banda\\nRole: CFM Engineering Technician\\nCompany: SAI-Kenall JV, Houston, TX\\n\\nEducation Qualification:\\nMS, Civil Engineering, 2017\\n\\nLicenses:\\nCFM #4218-22N\\n\\nQualifications:\\n\\n Over 5 years of experience in structural and civil engineering\\n Specialization in hydrologic, hydraulic, and scour engineering for bridge and stream channel design\\n Sound knowledge in USACE Engineering Manuals, NRCS Handbooks, Manuals and Guides, and FHWA\\n Experienced in software applications including AutoCAD, Micro Station, Revit, ArcGIS, etc.\\n\\nExperience:\\n\\n USACE Fort Worth District - Repair Fire Protection, Install Security Fences PROFESSIONAL sERvices (2021)\\n\\t+ Developed DB and DBB RFP packages for 15 sites\\n\\t+ Assisted Project Manager in conducting field investigations\\n\\t+ Collected and analyzed soil samples for geotechnical design of foundations\\n USS. Fish & Wildlife Service/ DOI - Culvert and Road Replacement on CR 417 (2020)\\n\\t+ Replaced existing under capacity culvert with a new one\\n\\t+ Assisted Project Manager in conducting field investigations\\n\\t+ Designed temporary drainage system for construction\\n USACE Fort Worth District - Improve drainage and mitigate BASH — Ran- dolph Air Force Base, TX (2019)\\n\\t+ Reviewed existing drainage system for adequacy\\n\\t+ Performed hydrology analysis for west portion of western runway way\\n\\t+ Performed Hydraulic analysis for existing conditions\\n USACE Fort Worth District - AE Services for Design-Build Repair Building 6426, Hangar 3, for 11th Bomb Squadron, Barksdale AFB, LA (2018)\\n\\t+ Directed staff in developing DB RFP to renovate a hangar\\n\\t+ Assisted Project Manager in conducting site visits and preparation of design analysis and DB RFP deliverables\\n\\nProjects:\\n\\n Repair Fire Protection, Install Security Fences PROFESSIONAL sERvices\\n Culvert and Road Replacement on CR 417\\n Improve drainage and mitigate BASH — Ran- dolph Air Force Base, TX\\n AE Services for Design-Build Repair Building 6426, Hangar 3, for 11th Bomb Squadron, Barksdale AFB, LA\\n\\nRoles and Responsibilities:\\n\\n Engineering Technician\\n Assisted Project Manager in conducting field investigations and site visits\\n Collected and analyzed soil samples for geotechnical design of foundations\\n Designed temporary drainage system for construction\\n Reviewed existing drainage system for adequacy\\n Performed hydrology analysis and Hydraulic analysis', 'role': 'CFM Engineering Technician', 'experience': '  USACE Fort Worth District - Repair Fire Protection, Install Security Fences PROFESSIONAL sERvices (2021) + Developed DB and DBB RFP packages for 15 sites + Assisted Project Manager in conducting field investigations + Collected and analyzed soil samples for geotechnical design of foundations USS. Fish & Wildlife Service/ DOI - Culvert and Road Replacement on CR 417 (2020) + Replaced existing under capacity culvert with a new one + Assisted Project Manager in conducting field investigations + Designed temporary drainage system for construction USACE Fort Worth District - Improve drainage and mitigate BASH — Ran- dolph Air Force Base, TX (2019) + Reviewed existing drainage system for adequacy + Performed hydrology analysis for west portion of western runway way + Performed Hydraulic analysis for existing conditions USACE Fort Worth District - AE Services for Design-Build Repair Building 6426, Hangar 3, for 11th Bomb Squadron, Barksdale AFB, LA (2018) + Directed staff in developing DB RFP to renovate a hangar + Assisted Project Manager in conducting site visits and preparation of design analysis and DB RFP deliverables ', 'projects': '  Repair Fire Protection, Install Security Fences PROFESSIONAL sERvices Culvert and Road Replacement on CR 417 Improve drainage and mitigate BASH — Ran- dolph Air Force Base, TX AE Services for Design-Build Repair Building 6426, Hangar 3, for 11th Bomb Squadron, Barksdale AFB, LA '}\n",
      "{'projects': '  1. USACE Fort Worth District - Renovation of Buildings 16, 44, 615 (2002) 2. USACE Fort Worth District - Repair Fire Protection, Install Security Fences and Repairs of Buildings at Red River Army Depot (2019) 3. USACE Fort Worth District - Design of Tactical Equipment Maintenance Facility (TEMF) Renovations at Fort Hood (2019) 4. USACE Fort Worth District - Repair Building B499 Randolph Air Force Base (2019) ', 'company': 'SAT-Kenall JV, Houston, TX ', 'qualification': '  Served as Project Engineer of Record on more than 40 LEED Silver certified projects', 'roles_responsibilities': None, 'summary': 'Here is the summarized version of the provided text, following the specified structure:\\n\\nName: Dave Branson, PE, LEED AP BD+C\\nEducation Qualification: BS, Mechanical Engineering, 1985\\nRole: Sr. Fire Protection Engineer\\nLicenses:\\n\\t PE (Fire Protection): TX #61431 (1987)\\n\\t LEED AP BD +C USGBC #10054321\\nCompany: SAT-Kenall JV, Houston, TX\\n\\nQualifications:\\n\\n Served as Project Engineer of Record on more than 40 LEED Silver certified projects\\n Organizations: SAME, NFPA, American Society of Heating, Refrigerating, and ASHRAE\\n Served as a voting member on standard committee ASHRAE 90.1.\\n Fellow ASHRAE\\n\\nExperience:\\n\\n1. USACE Fort Worth District - Renovation of Buildings 16, 44, 615\\n\\t Sr. Fire Protection Engineer\\n\\t Led five projects, conducted facility condition assessments, designed UFC and NFPA compliant replacement fire protection systems\\n2. USACE Fort Worth District - Repair Fire Protection, Install Security Fences and Repairs of Buildings at Red River Army Depot\\n\\t Sr. Fire Protection Engineer\\n\\t Conducted site investigations, designed replacement of fire suppression systems per UFC criteria\\n3. USACE Fort Worth District - Design of Tactical Equipment Maintenance Facility (TEMF) Renovations at Fort Hood\\n\\t Sr. Fire Protection Engineer\\n\\t Conducted facility condition assessments, developed 4 separate DBB RFP packages for each battalion TEMF\\n4. USACE Fort Worth District - Repair Building B499 Randolph Air Force Base\\n\\t Sr. Fire Protection Engineer\\n\\t Developed a D-B-B RFP to renovate the entire space to new construction standards\\n\\nProjects:\\n\\n1. USACE Fort Worth District - Renovation of Buildings 16, 44, 615 (2002)\\n2. USACE Fort Worth District - Repair Fire Protection, Install Security Fences and Repairs of Buildings at Red River Army Depot (2019)\\n3. USACE Fort Worth District - Design of Tactical Equipment Maintenance Facility (TEMF) Renovations at Fort Hood (2019)\\n4. USACE Fort Worth District - Repair Building B499 Randolph Air Force Base (2019)\\n\\nRoles and Responsibilities:\\n\\n Conducted facility condition assessments\\n Designed UFC and NFPA compliant replacement fire protection systems\\n Developed D-B-B RFP packages for each battalion TEMF\\n Ensured all applicable fire protection and life safety design criteria is in compliance with UFC 3-600-01 Change 5.', 'role': 'Sr. Fire Protection Engineer', 'experience': '  1. USACE Fort Worth District - Renovation of Buildings 16, 44, 615 Sr. Fire Protection Engineer Led five projects, conducted facility condition assessments, designed UFC and NFPA compliant replacement fire protection systems 2. USACE Fort Worth District - Repair Fire Protection, Install Security Fences and Repairs of Buildings at Red River Army Depot Sr. Fire Protection Engineer Conducted site investigations, designed replacement of fire suppression systems per UFC criteria 3. USACE Fort Worth District - Design of Tactical Equipment Maintenance Facility (TEMF) Renovations at Fort Hood Sr. Fire Protection Engineer Conducted facility condition assessments, developed 4 separate DBB RFP packages for each battalion TEMF 4. USACE Fort Worth District - Repair Building B499 Randolph Air Force Base Sr. Fire Protection Engineer Developed a D-B-B RFP to renovate the entire space to new construction standards ', 'name': 'Dave Branson, PE, LEED AP BD+C'}\n",
      "{'name': 'Daniel Ling, GISP CADD Technician ', 'company': 'SAI-Kenall JV, Houston, TX ', 'qualification': '  Proficient in AutoCAD, SketchUp, MicroStation Vi8, InDesign, and mapping as per A/E/C CADD standards Experienced in operating professional GPS devices; Geodatabase designing and maintenance; Web Mapping with JavaScript and Google Map API; Civil 3D, and Geopak Civil Suite ', 'roles_responsibilities': None, 'summary': 'Here is the summarized resume in the requested format:\\n\\nName: Daniel Ling, GISP CADD Technician\\n\\nEducation Qualification: MS, Urban and Regional Planning; Certificate of Geographic Information Technology (CGIT); BS, Architecture\\n\\nRole: CADD Technician\\n\\nLicenses:\\n\\n None mentioned\\n\\nCompany: SAI-Kenall JV, Houston, TX\\n\\nQualifications:\\n\\n Proficient in AutoCAD, SketchUp, MicroStation Vi8, InDesign, and mapping as per A/E/C CADD standards\\n Experienced in operating professional GPS devices; Geodatabase designing and maintenance; Web Mapping with JavaScript and Google Map API; Civil 3D, and Geopak Civil Suite\\n\\nExperience:\\n\\n1. USACE Fort Worth District - Renovation of Buildings 16, 44, 615, 2002, and 2006, Fort Sam Houston, TX\\n\\t CADD Technician for development of five (5) separate 100% plans and specs\\n\\t Utilized AutoDesk Revit, NavisWorks Design Review Software for a fully collaborative BIM effort\\n2. USACE Fort Worth District - Design of Tactical Equipment Maintenance Facility (TEMF) Renovations at Fort Hood, TX\\n\\t CADD Technician for developing 4 separate DBB RFP packages for each battalion TEMF\\n\\t Utilized AutoCAD to develop notional plans and elevations, block diagrams, site plans, floor plans, and elevations\\n3. USACE Fort Worth District - Repair Building B499 Randolph Air Force Base, TX\\n\\t CADD Technician for developing a D-B-B RFP to renovate the entire 3rd floor of B499\\n\\t Utilized CAD drawings in accordance with ERDC/ITL TR 12-6 DoD CAD Standards\\n4. IBWC Sunland Park Levee Forensic Investigation, El Paso, TX\\n\\t CADD Technician for performing drafting according to USACE CAD standard and ensuring compliance with project QA procedures\\n\\nProjects:\\n\\n1. Renovation of Buildings 16, 44, 615, 2002, and 2006, Fort Sam Houston, TX\\n2. Design of Tactical Equipment Maintenance Facility (TEMF) Renovations at Fort Hood, TX\\n3. Repair Building B499 Randolph Air Force Base, TX\\n4. IBWC Sunland Park Levee Forensic Investigation, El Paso, TX\\n\\nRoles and Responsibilities:\\n\\n CADD Technician for various projects, utilizing CAD software to develop plans, specs, and designs\\n Utilized professional GPS devices, Geodatabase designing and maintenance, Web Mapping with JavaScript and Google Map API, Civil 3D, and Geopak Civil Suite', 'role': 'CADD Technician ', 'experience': '  1. USACE Fort Worth District - Renovation of Buildings 16, 44, 615, 2002, and 2006, Fort Sam Houston, TX CADD Technician for development of five (5) separate 100% plans and specs Utilized AutoDesk Revit, NavisWorks Design Review Software for a fully collaborative BIM effort 2. USACE Fort Worth District - Design of Tactical Equipment Maintenance Facility (TEMF) Renovations at Fort Hood, TX CADD Technician for developing 4 separate DBB RFP packages for each battalion TEMF Utilized AutoCAD to develop notional plans and elevations, block diagrams, site plans, floor plans, and elevations 3. USACE Fort Worth District - Repair Building B499 Randolph Air Force Base, TX CADD Technician for developing a D-B-B RFP to renovate the entire 3rd floor of B499 Utilized CAD drawings in accordance with ERDC/ITL TR 12-6 DoD CAD Standards 4. IBWC Sunland Park Levee Forensic Investigation, El Paso, TX CADD Technician for performing drafting according to USACE CAD standard and ensuring compliance with project QA procedures ', 'projects': '  1. Renovation of Buildings 16, 44, 615, 2002, and 2006, Fort Sam Houston, TX 2. Design of Tactical Equipment Maintenance Facility (TEMF) Renovations at Fort Hood, TX 3. Repair Building B499 Randolph Air Force Base, TX 4. IBWC Sunland Park Levee Forensic Investigation, El Paso, TX '}\n",
      "{'name': 'Andrew Mok', 'company': 'SAT-Kenall JV, Houston, TX ', 'qualification': '  Extensive experience in electrical design for institutional facilities, housing facilities, hospitals, municipal water and wastewater system, construction, and inspection services Expertise in electrical load analysis, riser and one-line diagrams, lighting and power layout, short circuit current and voltage drop calculations, panel schedules and specifications, power generation and transmission, high, medium and low voltage distributing system ', 'roles_responsibilities': None, 'summary': \"Here is a summarized version of the resume, formatted according to your requirements:\\n\\nName: Andrew Mok\\nRole: Electrical Engineer\\nCompany: SAT-Kenall JV, Houston, TX\\n\\nEducation Qualification: PE (Electrical): TX #83057 (1997), MS, Mechanical Engineering (1991)\\n\\nLicenses:\\n\\n PE (Electrical): TX #83057 (1997)\\n Other licenses not specified\\n\\nQualifications:\\n\\n Extensive experience in electrical design for institutional facilities, housing facilities, hospitals, municipal water and wastewater system, construction, and inspection services\\n Expertise in electrical load analysis, riser and one-line diagrams, lighting and power layout, short circuit current and voltage drop calculations, panel schedules and specifications, power generation and transmission, high, medium and low voltage distributing system\\n\\nExperience:\\n\\n Electrical Engineer for various projects, including:\\n\\t+ USACE Fort Worth District - Renovation of Buildings 16, 44, 615 (2022)\\n\\t+ USACE Fort Worth District - Repair Fire Protection, Install Security Fences and Repairs of Buildings at Red River Army Depot (2021)\\n\\t+ USACE Fort Worth District - A-E Services for multiple SRM & CTC Projects (2019)\\n\\t+ AE Services for DBB for Rehabilitation of B-255, Dormitories, Laughlin AFB (2022)\\n\\nProjects:\\n\\n USACE Fort Worth District - Renovation of Buildings 16, 44, 615\\n USACE Fort Worth District - Repair Fire Protection, Install Security Fences and Repairs of Buildings at Red River Army Depot\\n USACE Fort Worth District - A-E Services for multiple SRM & CTC Projects\\n AE Services for DBB for Rehabilitation of B-255, Dormitories, Laughlin AFB\\n\\nRoles and Responsibilities:\\n\\n Electrical Engineer for various projects, including:\\n\\t+ Preparation of full construction plans and specs\\n\\t+ Design of electrical supporting systems, such as lighting, HVAC, plumbing, fire alarm/mass notification system, and communication\\n\\t+ Site investigations to assess the condition of facilities\\n\\t+ Conducted site investigations to assess the condition of sites\\n\\t+ Provided electrical design that included automatic cantilever rolling gate openers and UFC 3-350-01 compliant security lighting\\n\\t+ Designed ADA compliant gates with CAC readers, intercoms, signs, cameras, and keypads\\n\\nNote: I've kept the same formatting as before, but condensed the information into a more summarized version. Let me know if you'd like me to make any changes!\", 'role': 'Electrical Engineer', 'experience': ' ', 'projects': '  USACE Fort Worth District - Renovation of Buildings 16, 44, 615 USACE Fort Worth District - Repair Fire Protection, Install Security Fences and Repairs of Buildings at Red River Army Depot USACE Fort Worth District - A-E Services for multiple SRM & CTC Projects AE Services for DBB for Rehabilitation of B-255, Dormitories, Laughlin AFB '}\n",
      "{'projects': '  1. USACE - Brigade Combat Team (BCT) Complexes Design 2. USACE - New Community Support and Morale, Welfare and Recreation (MWR) Facilities 3. Buchanan, Guaynabo, PR 4. Renovation of Patrick Space Force Base Beach House Officers Club — Patrick Space Force Base, FL 5. USACE - Eastern Area Office (AO) Design and Construction ', 'company': 'Jacobs', 'qualification': ' - USACE MCACES MII cost estimating program - UFC 3-701-01 and the USACE MCACES-MII cost estimating program ', 'roles_responsibilities': None, 'summary': 'Here is the summarized resume in the requested format:\\n\\nName: Richter Schneider\\nRole: Cost Engineer\\nCompany: Jacobs\\nLocation: Fort Worth, TX\\n\\nEducation Qualification:\\n- BS, Architectural Building/Construction Engineer (1975)\\n\\nLicenses:\\n- Certified Prof. Estimator, ASPE: CO #1.4-00014 (1993)\\n- Construction Documents Technologist, CSI: #1296326 (1998)\\n\\nQualifications:\\n- USACE MCACES MII cost estimating program\\n- UFC 3-701-01 and the USACE MCACES-MII cost estimating program\\n\\nExperience:\\n\\n1. Cost Engineer, USACE - Brigade Combat Team (BCT) Complexes Design, El Paso, TX (2018)\\n\\t Estimated costs for 34 facilities, including Y Provided cost engineering studies for facilities listed in the SOW.\\n2. Cost Engineer, USACE - New Community Support and Morale, Welfare and Recreation (MWR) Facilities, El Paso, TX (2017)\\n\\t Estimated costs for 8 child development centers, 2 lodging facilities, and other infrastructure projects.\\n3. Cost Engineer, Buchanan, Guaynabo, PR (2016)\\n\\t Performed cost estimating using UFC 3-701-01 and the USACE MCACES-MII cost estimating program at all project milestones.\\n4. Cost Engineer, Renovation of Patrick Space Force Base Beach House Officers Club — Patrick Space Force Base, FL (2013)\\n\\t Prepared a cost estimate for the restoration and upgrades to the existing Officer’s Club.\\n5. Cost Engineer, USACE - Eastern Area Office (AO) Design and Construction, Fort Bliss, TX (2017)\\n\\t Managed cost estimating to construct new facilities, including military hospital, clinics, barracks, and fire station.\\n\\nProjects:\\n\\n1. USACE - Brigade Combat Team (BCT) Complexes Design\\n2. USACE - New Community Support and Morale, Welfare and Recreation (MWR) Facilities\\n3. Buchanan, Guaynabo, PR\\n4. Renovation of Patrick Space Force Base Beach House Officers Club — Patrick Space Force Base, FL\\n5. USACE - Eastern Area Office (AO) Design and Construction\\n\\nRoles and Responsibilities:\\n\\n1. Cost Estimating\\n2. Project Management\\n3. Engineering and Technical Representation\\n4. QA Representation', 'role': 'Cost Engineer', 'experience': '  1. Cost Engineer, USACE - Brigade Combat Team (BCT) Complexes Design, El Paso, TX (2018) Estimated costs for 34 facilities, including Y Provided cost engineering studies for facilities listed in the SOW. 2. Cost Engineer, USACE - New Community Support and Morale, Welfare and Recreation (MWR) Facilities, El Paso, TX (2017) Estimated costs for 8 child development centers, 2 lodging facilities, and other infrastructure projects. 3. Cost Engineer, Buchanan, Guaynabo, PR (2016) Performed cost estimating using UFC 3-701-01 and the USACE MCACES-MII cost estimating program at all project milestones. 4. Cost Engineer, Renovation of Patrick Space Force Base Beach House Officers Club — Patrick Space Force Base, FL (2013) Prepared a cost estimate for the restoration and upgrades to the existing Officer’s Club. 5. Cost Engineer, USACE - Eastern Area Office (AO) Design and Construction, Fort Bliss, TX (2017) Managed cost estimating to construct new facilities, including military hospital, clinics, barracks, and fire station. ', 'name': 'Richter Schneider'}\n",
      "{'projects': 'not found', 'company': 'SAI-Kenall JV', 'qualification': '  MS, Civil Engineering, 2010 BS, Civil Engineering, 2008', 'roles_responsibilities': None, 'summary': 'Based on the provided text, I will create a summarized resume for Rajesh Tolikonda, PE Civil Engineer. Here is the summary:\\n\\nName: Rajesh Tolikonda\\nRole: PE Civil Engineer\\nLicenses:\\n\\t+ PE (Civil): FL #89997 (2020), TX #130945, LA and OK\\n\\t+ USACE CQM\\n\\nCompany: SAI-Kenall JV\\nLocation: Houston, TX\\n\\nQualifications:\\n\\n MS, Civil Engineering, 2010\\n BS, Civil Engineering, 2008\\n Organizations: ACEC, ASCE, SAME\\n\\nExperience:\\n\\t1. USACE Fort Worth District - Renovation of Buildings 16, 44, 615\\n\\t\\t Location: Fort Sam Houston, TX\\n\\t\\t Years Completed: 2022\\n\\t\\t Role: Civil Engineer\\n\\t\\t Brief Description: Designed low-impact development (LID) and full construction plans and specs for five historical buildings.\\n\\t2. USACE Fort Worth District - AE Services for DBB for Rehabilitation of B-255, Dormitories, Laughlin AFB, TX\\n\\t\\t Location: Laughlin AFB, TX\\n\\t\\t Years Completed: 2023 (est.)\\n\\t\\t Role: Civil Engineer\\n\\t\\t Brief Description: Led development of EISA-compliant design and DBB package for storm water, parking lot, utilities, and landscaping.\\n\\t3. USACE Fort Worth District - Design of Tactical Equipment Maintenance Facility (TEMF) Renovations at Fort Hood, TX\\n\\t\\t Location: Fort Hood, TX\\n\\t\\t Years Completed: 2022\\n\\t\\t Role: Civil Engineer\\n\\t\\t Brief Description: Led civil design for 4 separate 100% plans & specifications packages.\\n\\t4. Patrick Space Force Base Officers Club Beach House Renovation, Patrick SFB, FL\\n\\t\\t Location: Patrick SFB, FL\\n\\t\\t Years Completed: 2016\\n\\t\\t Role: Civil Engineer\\n\\t\\t Brief Description: Coordinated with survey and geotechnical teams for field work.\\n\\nProjects Worked Before:\\n\\n1. USACE Fort Worth District - Renovation of Buildings 16, 44, 615\\n2. USACE Fort Worth District - AE Services for DBB for Rehabilitation of B-255, Dormitories, Laughlin AFB, TX\\n3. USACE Fort Worth District - Design of Tactical Equipment Maintenance Facility (TEMF) Renovations at Fort Hood, TX\\n4. Patrick Space Force Base Officers Club Beach House Renovation, Patrick SFB, FL\\n\\nRoles and Responsibilities:\\n\\t Led civil engineering on various projects\\n\\t Conducted site investigations to assess facility conditions\\n\\t Designed storm water drainage analysis\\n\\t Coordinated with survey and geotechnical teams for field work\\n\\t Supported civil design of site work, utilities, and landscaping', 'role': 'Civil Engineer', 'experience': ' 1. USACE Fort Worth District - Renovation of Buildings 16, 44, 615', 'name': 'Rajesh Tolikonda'}\n",
      "{'projects': '  1. Paint and Sandblast Facility, USCG Miami Station, FL', 'company': 'SAI-Kenall JV, Orlando, FL ', 'qualification': \"  21 years of experience in using CADD (MicroStation and AutoCAD) and GIS (ESRI ArcGIS) software Highly skilled in construction plan preparation to comply with various design standards Extensive experience in developing GIS databases to comply with DoD's Spatial Data Standards for Facilities, Infrastructure, and Environment (SDSFIE) \", 'roles_responsibilities': None, 'summary': \"Summarized Resume\\n\\nName: Brian\\n\\nEducation Qualification: N/A (not specified)\\n\\nRole: Senior CADD Technician\\n\\nLicenses:\\n\\n No licenses mentioned in the provided text\\n\\nCompany: SAI-Kenall JV, Orlando, FL\\n\\nQualifications:\\n\\n 21 years of experience in using CADD (MicroStation and AutoCAD) and GIS (ESRI ArcGIS) software\\n Highly skilled in construction plan preparation to comply with various design standards\\n Extensive experience in developing GIS databases to comply with DoD's Spatial Data Standards for Facilities, Infrastructure, and Environment (SDSFIE)\\n\\nExperience:\\n\\n 21 years of experience in supporting civil engineering projects of varying size and complexity for various military installations and federal facilities in Florida and Puerto Rico\\n\\nProjects:\\n\\n1. Paint and Sandblast Facility, USCG Miami Station, FL\\n\\t Year completed: 2021\\n\\t Role: Senior CADD Technician\\n\\t Brief description: Construction documentation production at 65%, 95%, and 100% as per UFC Criteria\\n2. Relocate AGE Refueling Station, MacDill AFB, Tampa, FL\\n\\t Year completed: 2019\\n\\t Role: Senior CADD Technician\\n\\t Brief description: Demolition of existing AGE refueling station and construction of a new one\\n3. CES and FES Warehouses, MacDill AFB, Tampa, FL\\n\\t Year completed: 2020 (professional services) / 2021 (construction)\\n\\t Role: Senior CADD Technician\\n\\t Brief description: Design and construction of two new pre-engineered storage facilities\\n4. Tanker Road Pavement Rehabilitation, MacDill AFB, Tampa, FL\\n\\t Year completed: Not specified\\n\\t Role: Senior CADD Technician\\n\\t Brief description: Pavement rehabilitation of approximately 0.3-mile segment of roadway\\n5. Deployed Unit Complex, B71, MacDill AFB, Tampa, FL\\n\\t Year completed: Not specified\\n\\t Role: Senior CADD Technician\\n\\t Brief description: Exterior building renovations and improvements consisting of new windows, doors, roofing, gutters, and downspouts\\n\\nRoles and Responsibilities:\\n\\n Construction documentation production at 65%, 95%, and 100% as per UFC Criteria\\n Geospatial data development in accordance with DoD's SDSFIE\\n Preparation of as-built drawings upon completion of construction\\n Development of GIS and CADD documents for final submission\", 'role': 'Senior CADD Technician', 'experience': '  21 years of experience in supporting civil engineering projects of varying size and complexity for various military installations and federal facilities in Florida and Puerto Rico ', 'name': 'Brian '}\n",
      "{'projects': ' 1. USACE Fort Worth District - Design-Build RFPs and Feasibility Studies for Customs and Border Protection Roads Border Patrol Sectors, Rio Grande Valley, TX (2019) Surveyor for 35% design plans Responsible for setting survey control, topographic surveys, identifying existing property corners, and setting aerial panel points 2. USACE Fort Worth District - 35% Design for US Border Patrol - Remote Video Surveillance System (RVSS) Field Sensor Towers and Access Road Design, Multiple AOR, TX (2019) Surveyor for delivery of 35% design of 42 field tower sites and one relay tower site Responsible for reviewing field reports and calculations to set survey control, prepare topographic surveys, and establish property easements 3. USACE Fort Worth District - Repair Fire Protection, Install Security Fences and Repairs of Buildings at Red River Army Depot, Texarkana, TX (2021) Surveyor for development of DB/DBB RFP packages for 15 sites Performed site survey to determine topography and locate above and underground features ', 'company': 'Halff Associates, Inc.', 'qualification': ' - 30 years of surveying experience', 'roles_responsibilities': None, 'summary': 'Here is the summarized version of the resume with clear headings:\\n\\nName: Vasileios Kalogirou, RPLS, PLS, PS, PSM\\n\\nEducation Qualification:\\n- Master of GIS, GIS, 2003\\n- BS, Rural and Surveying Engineering, 2001\\n\\nRole: Registered Professional Land Surveyor (RPLS)\\n\\nLicenses:\\n- Registered Professional Land Surveyor (RPLS): TX #6205\\n- Licensed Surveyor: FL, #LS7320 (2021); OK; NM; and AR\\n\\nCompany: Halff Associates, Inc.\\nLocation: Richardson, TX\\n\\nQualifications:\\n- 30 years of surveying experience\\n- Organizations: National Council of Examiners for Engineering and Surveying (NCEES), Texas Society of Professional Surveyors (TSPS)\\n- Publications: “Utilizing Drone Survey Technology to support the Oil and Gas Industry”- North Texas Gas Processors Association\\n\\nExperience: 30 years of surveying experience\\n- Preparing topographic and property boundary surveys for USACE, TXDOT, municipalities, and energy companies\\n- Conducting design-build RFP preparation, final design, and construction\\n\\nProjects:\\n1. USACE Fort Worth District - Design-Build RFPs and Feasibility Studies for Customs and Border Protection Roads Border Patrol Sectors, Rio Grande Valley, TX (2019)\\n\\t Surveyor for 35% design plans\\n\\t Responsible for setting survey control, topographic surveys, identifying existing property corners, and setting aerial panel points\\n2. USACE Fort Worth District - 35% Design for US Border Patrol - Remote Video Surveillance System (RVSS) Field Sensor Towers and Access Road Design, Multiple AOR, TX (2019)\\n\\t Surveyor for delivery of 35% design of 42 field tower sites and one relay tower site\\n\\t Responsible for reviewing field reports and calculations to set survey control, prepare topographic surveys, and establish property easements\\n3. USACE Fort Worth District - Repair Fire Protection, Install Security Fences and Repairs of Buildings at Red River Army Depot, Texarkana, TX (2021)\\n\\t Surveyor for development of DB/DBB RFP packages for 15 sites\\n\\t Performed site survey to determine topography and locate above and underground features\\n\\nRoles and Responsibilities:\\n- Reviewing field reports and calculations to set survey control\\n- Preparing topographic surveys and establishing property easements\\n- Conducting site surveys to determine topography and locate above and underground features\\n- Developing DB/DBB RFP packages for construction projects', 'role': 'Registered Professional Land Surveyor (RPLS) ', 'experience': '30 years of surveying experience - Preparing topographic and property boundary surveys for USACE, TXDOT, municipalities, and energy companies - Conducting design-build RFP preparation, final design, and construction ', 'name': 'Vasileios Kalogirou, RPLS, PLS, PS, PSM '}\n",
      "{'projects': '  1. Paint and Sandblast Facility, USCG Miami Station, FL 2. Relocate AGE Refueling Station, MacDill AFB, Tampa, FL 3. CES and FES Warehouses, MacDill AFB, Tampa, FL 4. USACE Fort Worth District - A-E Services for Red River Army Depot — Install | Security Fences and Repair Buildings, Texarkana, TX ', 'company': 'SAI-Kenall JV, Orlando, FL ', 'qualification': ' Over 18 years of experience in conducting engineering design, analysis, calculations, and developing technical specifications for civil infrastructure design projects. Skilled at H&H modeling using numerous programs, civil infrastructure design, construction plans production using MicroStation and AutoCAD, quantity take-offs, cost estimates, construction phase support and as-built certifications. ', 'roles_responsibilities': None, 'summary': 'Here is the summarized resume of Brett Witte:\\n\\nName: Brett Witte, PE\\nEducation Qualification: BS, Civil Engineering (2005)\\nRole: Project Manager / Civil Engineer\\nLicenses:\\n\\t PE (Civil): FL #70720 (2010)\\nCompany: SAI-Kenall JV, Orlando, FL\\n\\nQualifications:\\n\\t Over 18 years of experience in conducting engineering design, analysis, calculations, and developing technical specifications for civil infrastructure design projects.\\n\\t Skilled at H&H modeling using numerous programs, civil infrastructure design, construction plans production using MicroStation and AutoCAD, quantity take-offs, cost estimates, construction phase support and as-built certifications.\\n\\nExperience:\\n\\n1. Paint and Sandblast Facility, USCG Miami Station, FL\\n\\t Project Manager / Civil Engineer\\n\\t Coordinated between disciplines\\n\\t Led civil design (utilities, layout, grading, drainage) through 65%, 95%, and 100% design documents.\\n2. Relocate AGE Refueling Station, MacDill AFB, Tampa, FL\\n\\t Project Manager / Civil Engineer\\n\\t Coordinated between disciplines\\n\\t Design engineer for the preparation of construction plans and conducting QC reviews of the design.\\n3. CES and FES Warehouses, MacDill AFB, Tampa, FL\\n\\t Project Manager / Civil Engineer\\n\\t Coordinated between disciplines\\n\\t Design engineer for the preparation of construction plans and conducting QC reviews of the design.\\n4. USACE Fort Worth District - A-E Services for Red River Army Depot — Install | Security Fences and Repair Buildings, Texarkana, TX\\n\\t Civil Engineer\\n\\t Performed QC of 65%, 95%, and 100% design documents for scope elements such as swing gates, roadway, side-walks, and fire station.\\n\\nProjects:\\n\\n1. Paint and Sandblast Facility, USCG Miami Station, FL\\n2. Relocate AGE Refueling Station, MacDill AFB, Tampa, FL\\n3. CES and FES Warehouses, MacDill AFB, Tampa, FL\\n4. USACE Fort Worth District - A-E Services for Red River Army Depot — Install | Security Fences and Repair Buildings, Texarkana, TX\\n\\nRoles and Responsibilities:\\n\\n Coordinated between disciplines\\n Led civil design (utilities, layout, grading, drainage) through 65%, 95%, and 100% design documents.\\n Performed QC of 65%, 95%, and 100% design documents for scope elements such as swing gates, roadway, side-walks, and fire station.', 'role': 'Project Manager / Civil Engineer', 'experience': '  1. Paint and Sandblast Facility, USCG Miami Station, FL Project Manager / Civil Engineer Coordinated between disciplines Led civil design (utilities, layout, grading, drainage) through 65%, 95%, and 100% design documents. 2. Relocate AGE Refueling Station, MacDill AFB, Tampa, FL Project Manager / Civil Engineer Coordinated between disciplines Design engineer for the preparation of construction plans and conducting QC reviews of the design. 3. CES and FES Warehouses, MacDill AFB, Tampa, FL Project Manager / Civil Engineer Coordinated between disciplines Design engineer for the preparation of construction plans and conducting QC reviews of the design. 4. USACE Fort Worth District - A-E Services for Red River Army Depot — Install | Security Fences and Repair Buildings, Texarkana, TX Civil Engineer Performed QC of 65%, 95%, and 100% design documents for scope elements such as swing gates, roadway, side-walks, and fire station. ', 'name': 'Brett Witte, PE'}\n"
     ]
    }
   ],
   "source": [
    "client = weaviate.connect_to_local(port=8082)\n",
    "collection = client.collections.get(\"employee\")\n",
    "query_vector = compute_embeddings(text)\n",
    "response = collection.query.near_vector(\n",
    "    near_vector=query_vector,\n",
    "    limit=10,\n",
    "    return_metadata=wvc.query.MetadataQuery(certainty=True)\n",
    ")\n",
    "\n",
    "print(len(response.objects))\n",
    "for i in response.objects:\n",
    "    print(i.properties)\n",
    "client.close()"
   ]
  },
  {
   "cell_type": "code",
   "execution_count": null,
   "metadata": {},
   "outputs": [],
   "source": []
  }
 ],
 "metadata": {
  "kernelspec": {
   "display_name": ".venv",
   "language": "python",
   "name": "python3"
  },
  "language_info": {
   "codemirror_mode": {
    "name": "ipython",
    "version": 3
   },
   "file_extension": ".py",
   "mimetype": "text/x-python",
   "name": "python",
   "nbconvert_exporter": "python",
   "pygments_lexer": "ipython3",
   "version": "3.12.4"
  }
 },
 "nbformat": 4,
 "nbformat_minor": 2
}
