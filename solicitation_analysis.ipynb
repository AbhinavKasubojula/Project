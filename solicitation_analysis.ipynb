{
 "cells": [
  {
   "cell_type": "code",
   "execution_count": 18,
   "metadata": {},
   "outputs": [],
   "source": [
    "import os\n",
    "import re\n",
    "import pytesseract\n",
    "from pdf2image import convert_from_path\n",
    "import ollama\n",
    "import requests\n"
   ]
  },
  {
   "cell_type": "code",
   "execution_count": 4,
   "metadata": {},
   "outputs": [],
   "source": [
    "pdf_directory = \"C:/Users/AbhinavKasubojula/OneDrive - Kenall Inc/Desktop/code/kenall_docs/\"\n",
    "\n",
    "# Extract text from a PDF using OCR\n",
    "def extract_text_from_pdf(pdf_path):\n",
    "    try:\n",
    "        images = convert_from_path(pdf_path)  # Convert PDF to images\n",
    "        text = \"\"\n",
    "        for page_num, image in enumerate(images):\n",
    "            text += pytesseract.image_to_string(image)  # OCR on the image\n",
    "            print(f\"Extracted text from page {page_num + 1} of {os.path.basename(pdf_path)}...\")\n",
    "        return text\n",
    "    except Exception as e:\n",
    "        print(f\"Error extracting text from {pdf_path}: {e}\")\n",
    "        return None\n",
    "def remove_asterisks(text):\n",
    "    # Remove all occurrences of single and double asterisks\n",
    "    clean_text = re.sub(r\"\\*{1,2}\", \"\", text)\n",
    "    return clean_text\n",
    "def normalize_data(data):\n",
    "    \"\"\"\n",
    "    Normalize dictionary keys and values by removing unwanted characters and whitespace.\n",
    "    \"\"\"\n",
    "    normalized_data = []\n",
    "    for record in data:\n",
    "        if isinstance(record, dict):\n",
    "            normalized_record = {clean_text(key): clean_text(value) for key, value in record.items()}\n",
    "            normalized_data.append(normalized_record)\n",
    "        else:\n",
    "            print(f\"Warning: Expected a dictionary but got {type(record)}\")\n",
    "    return normalized_data\n",
    "\n",
    "def process():\n",
    "    pdf_files = [f for f in os.listdir(pdf_directory) if f.endswith(\".pdf\")]\n",
    "    for pdf_file in pdf_files:\n",
    "        pdf_path = os.path.join(pdf_directory, pdf_file)\n",
    "        print(f\"Processing: {pdf_file}\")\n",
    "        \n",
    "        # Extract text from the PDF\n",
    "        text = extract_text_from_pdf(pdf_path)\n",
    "        text = remove_asterisks(text)\n",
    "        text = normalize_data(text)\n",
    "\n",
    "    return(text)"
   ]
  },
  {
   "cell_type": "code",
   "execution_count": null,
   "metadata": {},
   "outputs": [],
   "source": [
    "pdf_files = [f for f in os.listdir(pdf_directory) if f.endswith(\".pdf\")]\n",
    "for pdf_file in pdf_files:\n",
    "    pdf_path = os.path.join(pdf_directory, pdf_file)\n",
    "    print(f\"Processing: {pdf_path}\")\n",
    "    text = extract_text_from_pdf(pdf_path)\n",
    "    print(text)"
   ]
  },
  {
   "cell_type": "code",
   "execution_count": null,
   "metadata": {},
   "outputs": [],
   "source": [
    "# An example prompt\n",
    "\n",
    "\n",
    "prompt = \"\"\" \n",
    "you are expert in sorting things out with analizing solicitaions bringing up new projects, with exalent proposal writing.\n",
    "here is a solicitation text you need to analyse the 1.purpose of the solicitation. 2.resources need to complete that project most effectivly. 3.engineers required. 4.importtant dates.\n",
    " **Company Information**\n",
    "\n",
    "* Company Overview\n",
    "\t+ Company Name\n",
    "\t+ Contact Information (Address, Phone, Email)\n",
    "\t+ Brief Description of Services\n",
    "* Professional Experience and Qualifications\n",
    "\t+ Certifications/Licenses\n",
    "\t+ Education Background\n",
    "\t+ Work Experience\n",
    "* Past Performance\n",
    "\t+ Relevant Projects\n",
    "\t+ Contracts\n",
    "\t+ References\n",
    "* Expertise and Capabilities\n",
    "\t+ Service Offerings\n",
    "\t+ Technical Expertise\n",
    "\t+ Business Areas\n",
    "* Staffing and Organizational Structure\n",
    "\"\"\"\n",
    "\n",
    "# Generate an embedding for the prompt and retrieve the most relevant doc\n",
    "response = ollama.embeddings(\n",
    "  model = \"llama3.2\",\n",
    "  prompt = prompt,\n",
    ")\n",
    "\n",
    "prompt_template = f\"Using this data: {text}. Respond to this prompt: {prompt}\"\n",
    "# Generate a response combining the prompt and data we retrieved in step 2\n",
    "output = ollama.generate(\n",
    "  model = \"llama3.2\",\n",
    "  prompt = prompt_template,\n",
    ")\n",
    "summary = output['response']\n",
    "print(summary)"
   ]
  },
  {
   "cell_type": "code",
   "execution_count": null,
   "metadata": {},
   "outputs": [],
   "source": [
    "import weaviate\n",
    "import weaviate.classes as wvc\n",
    "from weaviate.classes.config import Property, DataType\n",
    "from sentence_transformers import SentenceTransformer"
   ]
  },
  {
   "cell_type": "code",
   "execution_count": 10,
   "metadata": {},
   "outputs": [],
   "source": [
    "model = SentenceTransformer('multi-qa-MiniLM-L6-cos-v1')\n",
    "\n",
    "def compute_embeddings(documents):\n",
    "    embeddings = model.encode(documents, convert_to_tensor=False)\n",
    "    return embeddings"
   ]
  },
  {
   "cell_type": "code",
   "execution_count": null,
   "metadata": {},
   "outputs": [],
   "source": [
    "client = weaviate.connect_to_local(port=8080)\n",
    "collection = client.collections.get(\"Notices\")\n",
    "query_vector = compute_embeddings(text)\n",
    "response = collection.query.near_vector(\n",
    "    near_vector=query_vector,\n",
    "    limit=10,\n",
    "    return_metadata=wvc.query.MetadataQuery(certainty=True)\n",
    ")\n",
    "\n",
    "print(len(response.objects))\n",
    "for i in response.objects:\n",
    "    print(i.properties)\n",
    "client.close()"
   ]
  },
  {
   "cell_type": "code",
   "execution_count": null,
   "metadata": {},
   "outputs": [],
   "source": []
  }
 ],
 "metadata": {
  "kernelspec": {
   "display_name": ".venv",
   "language": "python",
   "name": "python3"
  },
  "language_info": {
   "codemirror_mode": {
    "name": "ipython",
    "version": 3
   },
   "file_extension": ".py",
   "mimetype": "text/x-python",
   "name": "python",
   "nbconvert_exporter": "python",
   "pygments_lexer": "ipython3",
   "version": "3.12.4"
  }
 },
 "nbformat": 4,
 "nbformat_minor": 2
}
