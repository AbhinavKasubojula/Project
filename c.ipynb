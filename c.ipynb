{
 "cells": [
  {
   "cell_type": "code",
   "execution_count": 34,
   "metadata": {},
   "outputs": [
    {
     "name": "stdout",
     "output_type": "stream",
     "text": [
      "2 -> 5 -> 9 "
     ]
    }
   ],
   "source": [
    "class nodes:\n",
    "    def __init__(self,nod, nxt_node = None):\n",
    "        self.nod = nod\n",
    "        self.nxt_node = nxt_node\n",
    "\n",
    "node1 = nodes('2')\n",
    "node2 = nodes('5')\n",
    "node3 = nodes('9')\n",
    "\n",
    "node1.nxt_node = node2\n",
    "node2.nxt_node = node3\n",
    "\n",
    "x=node1\n",
    "while True:\n",
    "    print(x.nod, end =' ')\n",
    "    if x.nxt_node == None:\n",
    "        break\n",
    "    else:\n",
    "        print('->',end=' ')\n",
    "        x=x.nxt_node"
   ]
  },
  {
   "cell_type": "code",
   "execution_count": 54,
   "metadata": {},
   "outputs": [
    {
     "name": "stdout",
     "output_type": "stream",
     "text": [
      "journal\n"
     ]
    }
   ],
   "source": [
    "a=input()\n",
    "a=list(a)\n",
    "c=[]\n",
    "v = ['a','e','i','o','u','A','E','I','O','U']\n",
    "i=0\n",
    "j=len(a)-1\n",
    "while True:\n",
    "    \n",
    "    if(i>j):\n",
    "        break\n",
    "    elif a[i] in v and a[j] not in v:\n",
    "        j=j-1\n",
    "    elif a[i] not in v and a[j] in v:\n",
    "        i=i+1\n",
    "    elif a[i] in v and a[j] in v:\n",
    "        temp = a[i]\n",
    "        a[i] = a[j]\n",
    "        a[j] = temp\n",
    "        i=i+1\n",
    "        j=j-1\n",
    "    else:\n",
    "        i=i+1\n",
    "        j=j-1\n",
    "s=''\n",
    "for i in a:\n",
    "    s=s+i\n",
    "print(s)\n",
    "    \n",
    "    \n"
   ]
  },
  {
   "cell_type": "code",
   "execution_count": 17,
   "metadata": {},
   "outputs": [
    {
     "name": "stdout",
     "output_type": "stream",
     "text": [
      "1\n"
     ]
    }
   ],
   "source": [
    "def binary(num,list):\n",
    "    n=0\n",
    "    while True:\n",
    "        #print(\"b \",n,\" \", list)\n",
    "        if(len(list) <= 2):\n",
    "            break\n",
    "        n = n+1\n",
    "        d = len(list)//2\n",
    "        a = list[:d]\n",
    "        b = list[d:len(list)]\n",
    "        if num in a:\n",
    "            list = a\n",
    "        else:\n",
    "            list = b\n",
    "        \n",
    "    return n\n",
    "\n",
    "def fib(num, list):\n",
    "    n=0\n",
    "    a=0\n",
    "    b=1\n",
    "    while True:\n",
    "        #print(\"f \",n,\" \",list)\n",
    "        if(len(list) <= 2):\n",
    "            break\n",
    "        n=n+1\n",
    "        x=list[a:b]\n",
    "        if num not in x:\n",
    "            b = b+a\n",
    "            a = b-a\n",
    "            if(b>len(list)):\n",
    "                b=len(list)\n",
    "        else:\n",
    "            list = x\n",
    "            a=0\n",
    "            b=1\n",
    "    return n\n",
    "\n",
    "num = int(input())\n",
    "li = int(input())\n",
    "list = []\n",
    "for i in range (1,li+1):\n",
    "    list.append(i)\n",
    "print(binary(num, list))\n",
    "\n",
    "print(fib(num, list))\n"
   ]
  }
 ],
 "metadata": {
  "kernelspec": {
   "display_name": ".venv",
   "language": "python",
   "name": "python3"
  },
  "language_info": {
   "codemirror_mode": {
    "name": "ipython",
    "version": 3
   },
   "file_extension": ".py",
   "mimetype": "text/x-python",
   "name": "python",
   "nbconvert_exporter": "python",
   "pygments_lexer": "ipython3",
   "version": "3.12.4"
  }
 },
 "nbformat": 4,
 "nbformat_minor": 2
}
