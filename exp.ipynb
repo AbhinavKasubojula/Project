{
 "cells": [
  {
   "cell_type": "code",
   "execution_count": 1,
   "metadata": {},
   "outputs": [
    {
     "name": "stderr",
     "output_type": "stream",
     "text": [
      "c:\\Users\\AbhinavKasubojula\\OneDrive - Kenall Inc\\Desktop\\code\\.venv\\Lib\\site-packages\\sentence_transformers\\cross_encoder\\CrossEncoder.py:13: TqdmWarning: IProgress not found. Please update jupyter and ipywidgets. See https://ipywidgets.readthedocs.io/en/stable/user_install.html\n",
      "  from tqdm.autonotebook import tqdm, trange\n",
      "c:\\Users\\AbhinavKasubojula\\OneDrive - Kenall Inc\\Desktop\\code\\.venv\\Lib\\site-packages\\google\\protobuf\\runtime_version.py:112: UserWarning: Protobuf gencode version 5.27.2 is older than the runtime version 5.28.2 at grpc_health/v1/health.proto. Please avoid checked-in Protobuf gencode that can be obsolete.\n",
      "  warnings.warn(\n"
     ]
    }
   ],
   "source": [
    "import os\n",
    "import pytesseract\n",
    "from pdf2image import convert_from_path\n",
    "import requests\n",
    "import json\n",
    "from sentence_transformers import SentenceTransformer\n",
    "import re\n",
    "import weaviate\n",
    "from weaviate import client\n",
    "import weaviate.classes as wvc\n",
    "from weaviate.classes.config import Property, DataType\n",
    "import ollama\n",
    "from weaviate.util import generate_uuid5\n",
    "import Levenshtein"
   ]
  },
  {
   "cell_type": "code",
   "execution_count": 15,
   "metadata": {},
   "outputs": [
    {
     "name": "stderr",
     "output_type": "stream",
     "text": [
      "C:\\Users\\AbhinavKasubojula\\AppData\\Local\\Programs\\Python\\Python312\\Lib\\asyncio\\selector_events.py:879: ResourceWarning: unclosed transport <_SelectorSocketTransport fd=4904 read=idle write=<idle, bufsize=0>>\n",
      "  _warn(f\"unclosed transport {self!r}\", ResourceWarning, source=self)\n",
      "ResourceWarning: Enable tracemalloc to get the object allocation traceback\n"
     ]
    }
   ],
   "source": [
    "\n",
    "# Initialize SentenceTransformer model\n",
    "model = SentenceTransformer('multi-qa-MiniLM-L6-cos-v1')\n",
    "\n",
    "# Set directory containing PDFs\n",
    "pdf_directory = \"C:/Users/AbhinavKasubojula/OneDrive - Kenall Inc/Desktop/code/docs/\"\n",
    "\n",
    "# Ollama API details (if needed for later use)\n",
    "url = \"http://localhost:11434/api/generate\"\n",
    "headers = {\"Content-Type\": \"application/json\"}\n"
   ]
  },
  {
   "cell_type": "code",
   "execution_count": 16,
   "metadata": {},
   "outputs": [],
   "source": [
    "\n",
    "\n",
    "# Compute embeddings for documents\n",
    "def compute_embeddings(documents):\n",
    "    embeddings = model.encode(documents, convert_to_tensor=False)\n",
    "    return embeddings\n"
   ]
  },
  {
   "cell_type": "code",
   "execution_count": 17,
   "metadata": {},
   "outputs": [],
   "source": [
    "\n",
    "# Extract text from a PDF using OCR\n",
    "def extract_text_from_pdf(pdf_path):\n",
    "    try:\n",
    "        images = convert_from_path(pdf_path)  # Convert PDF to images\n",
    "        text = \"\"\n",
    "        for page_num, image in enumerate(images):\n",
    "            text += pytesseract.image_to_string(image)  # OCR on the image\n",
    "            print(f\"Extracted text from page {page_num + 1} of {os.path.basename(pdf_path)}...\")\n",
    "        return text\n",
    "    except Exception as e:\n",
    "        print(f\"Error extracting text from {pdf_path}: {e}\")\n",
    "        return None\n"
   ]
  },
  {
   "cell_type": "code",
   "execution_count": 18,
   "metadata": {},
   "outputs": [],
   "source": [
    "import re\n",
    "\n",
    "def text_to_dict(text):\n",
    "    result = {}\n",
    "    current_key = None\n",
    "    \n",
    "    # Split text into lines\n",
    "    lines = text.strip().split(\"\\n\")\n",
    "    \n",
    "    # Check if the first line looks like an unwanted heading\n",
    "    if re.match(r\"^(Here is a summary|Summary of)\", lines[0], re.IGNORECASE):\n",
    "        lines = lines[1:]  # Skip the first line if it's an unwanted heading\n",
    "\n",
    "    for line in lines:\n",
    "        if \":\" in line:  # Line contains a key-value pair\n",
    "            key, value = line.split(\":\", 1)\n",
    "            current_key = key.strip()\n",
    "            result[current_key] = value.strip()\n",
    "        else:\n",
    "            if current_key:  # Append to the previous key's value\n",
    "                result[current_key] += \" \" + line.strip()\n",
    "    \n",
    "    return result\n"
   ]
  },
  {
   "cell_type": "code",
   "execution_count": 19,
   "metadata": {},
   "outputs": [],
   "source": [
    "def summarize_text_with_ollama(text):\n",
    "    prompt = f\"\"\"\n",
    "    you are expert in summarizing and sagrigating things. licenses need to be clearly mentioned in licenses category itself. you should get company's name very clearly and get every time in same way.\n",
    "    structure to get Summarized resume and highlight main points specifically.\n",
    "    - Name\n",
    "    - education qualification(you are able to find at name ending (like PE, BA, etc..,))\n",
    "    - Role\n",
    "    - Licenses\n",
    "    - company\n",
    "    - Qualifications\n",
    "    - Experience\n",
    "    - Projects he/she worked before\n",
    "    - Roles and Responsibilities\n",
    "\n",
    "    keep headings as it is. for my future reference\n",
    "    Resume Text:\n",
    "    {text}\n",
    "    \"\"\"\n",
    "    data = {\"model\": \"llama3.2-vision:latest\", \"prompt\": prompt, \"stream\": False}\n",
    "    response = requests.post(url, headers=headers, data=json.dumps(data))\n",
    "    \n",
    "    response_json = response.json()\n",
    "\n",
    "    text = response_json.get(\"response\", \"No response found\")\n",
    "    unwanted_prefix = \"Here is a summary of the resume:\"\n",
    "    if text.startswith(unwanted_prefix):\n",
    "        text = text[len(unwanted_prefix):].strip()\n",
    "    return text\n"
   ]
  },
  {
   "cell_type": "code",
   "execution_count": 20,
   "metadata": {},
   "outputs": [],
   "source": [
    "\n",
    "# Function to clean text\n",
    "def clean_text(text):\n",
    "    \"\"\"Remove asterisks and trim whitespace from the given text.\"\"\"\n",
    "    return re.sub(r\"\\*{1,}\", \"\", text).strip()\n",
    "\n",
    "# Normalize the dictionary\n",
    "def normalize_data(data):\n",
    "    \"\"\"\n",
    "    Normalize dictionary keys and values by removing unwanted characters and whitespace.\n",
    "    \"\"\"\n",
    "    normalized_data = []\n",
    "    for record in data:\n",
    "        if isinstance(record, dict):\n",
    "            normalized_record = {clean_text(key): clean_text(value) for key, value in record.items()}\n",
    "            normalized_data.append(normalized_record)\n",
    "        else:\n",
    "            print(f\"Warning: Expected a dictionary but got {type(record)}\")\n",
    "    return normalized_data\n"
   ]
  },
  {
   "cell_type": "code",
   "execution_count": 21,
   "metadata": {},
   "outputs": [],
   "source": [
    "\n",
    "# Process each PDF, extract text, summarize, and store in Weaviate\n",
    "def process(sum_dict, emb, summary_text):\n",
    "    pdf_files = [f for f in os.listdir(pdf_directory) if f.endswith(\".pdf\")]\n",
    "    for pdf_file in pdf_files:\n",
    "        pdf_path = os.path.join(pdf_directory, pdf_file)\n",
    "        print(f\"Processing: {pdf_file}\")\n",
    "        \n",
    "        # Extract text from the PDF\n",
    "        text = extract_text_from_pdf(pdf_path)\n",
    "        if text:\n",
    "            # Summarize the extracted text\n",
    "            summary1 = clean_text(text)\n",
    "            summary = summarize_text_with_ollama(summary1)\n",
    "            summary = clean_text(summary)\n",
    "            summary_dict= text_to_dict(summary)\n",
    "            print(summary_dict)\n",
    "            \n",
    "\n",
    "            # Generate vector embedding\n",
    "            embedding = compute_embeddings([summary1])[0]           \n",
    "            # Store data in Weaviate\n",
    "            #store_in_weaviate(summary, embedding,collection_name)\n",
    "        sum_dict.append(summary_dict)\n",
    "        emb.append(embedding)\n",
    "        summary_text.append(summary)\n",
    "\n",
    "    return(sum_dict, emb, summary_text)\n",
    "\n",
    "\n"
   ]
  },
  {
   "cell_type": "code",
   "execution_count": 25,
   "metadata": {},
   "outputs": [
    {
     "name": "stdout",
     "output_type": "stream",
     "text": [
      "An error occurred: HTTPConnectionPool(host='localhost', port=11434): Max retries exceeded with url: /api/models (Caused by NewConnectionError('<urllib3.connection.HTTPConnection object at 0x000001FFCF1A3FB0>: Failed to establish a new connection: [WinError 10061] No connection could be made because the target machine actively refused it'))\n"
     ]
    }
   ],
   "source": [
    "import requests\n",
    "\n",
    "url = \"http://localhost:11434/api/models\"\n",
    "headers = {\"Content-Type\": \"application/json\"}\n",
    "\n",
    "try:\n",
    "    response = requests.get(url, headers=headers)\n",
    "    if response.status_code == 200:\n",
    "        models = response.json()\n",
    "        print(\"Available models:\")\n",
    "        for model in models:\n",
    "            print(f\"- {model}\")\n",
    "    else:\n",
    "        print(f\"Failed to retrieve models. Status code: {response.status_code}\")\n",
    "        print(\"Response:\", response.text)\n",
    "except Exception as e:\n",
    "    print(f\"An error occurred: {e}\")\n"
   ]
  },
  {
   "cell_type": "code",
   "execution_count": 25,
   "metadata": {},
   "outputs": [
    {
     "name": "stdout",
     "output_type": "stream",
     "text": [
      "Processing: page_1 (2).pdf\n",
      "Extracted text from page 1 of page_1 (2).pdf...\n",
      "{}\n",
      "Processing: page_1.pdf\n",
      "Extracted text from page 1 of page_1.pdf...\n",
      "{}\n",
      "Processing: page_2.pdf\n"
     ]
    },
    {
     "ename": "KeyboardInterrupt",
     "evalue": "",
     "output_type": "error",
     "traceback": [
      "\u001b[1;31m---------------------------------------------------------------------------\u001b[0m",
      "\u001b[1;31mKeyboardInterrupt\u001b[0m                         Traceback (most recent call last)",
      "Cell \u001b[1;32mIn[25], line 5\u001b[0m\n\u001b[0;32m      3\u001b[0m embeddings \u001b[38;5;241m=\u001b[39m[]\n\u001b[0;32m      4\u001b[0m summary_text \u001b[38;5;241m=\u001b[39m[]\n\u001b[1;32m----> 5\u001b[0m sum_dict, embeddings, summary_text \u001b[38;5;241m=\u001b[39m \u001b[43mprocess\u001b[49m\u001b[43m(\u001b[49m\u001b[43msum_dict\u001b[49m\u001b[43m,\u001b[49m\u001b[43m \u001b[49m\u001b[43membeddings\u001b[49m\u001b[43m,\u001b[49m\u001b[43m \u001b[49m\u001b[43msummary_text\u001b[49m\u001b[43m)\u001b[49m\n\u001b[0;32m      6\u001b[0m \u001b[38;5;66;03m#\u001b[39;00m\n\u001b[0;32m      7\u001b[0m \u001b[38;5;28;01mfor\u001b[39;00m i \u001b[38;5;129;01min\u001b[39;00m \u001b[38;5;28mrange\u001b[39m(\u001b[38;5;28mlen\u001b[39m(sum_dict)):\n",
      "Cell \u001b[1;32mIn[24], line 9\u001b[0m, in \u001b[0;36mprocess\u001b[1;34m(sum_dict, emb, summary_text)\u001b[0m\n\u001b[0;32m      6\u001b[0m \u001b[38;5;28mprint\u001b[39m(\u001b[38;5;124mf\u001b[39m\u001b[38;5;124m\"\u001b[39m\u001b[38;5;124mProcessing: \u001b[39m\u001b[38;5;132;01m{\u001b[39;00mpdf_file\u001b[38;5;132;01m}\u001b[39;00m\u001b[38;5;124m\"\u001b[39m)\n\u001b[0;32m      8\u001b[0m \u001b[38;5;66;03m# Extract text from the PDF\u001b[39;00m\n\u001b[1;32m----> 9\u001b[0m text \u001b[38;5;241m=\u001b[39m \u001b[43mextract_text_from_pdf\u001b[49m\u001b[43m(\u001b[49m\u001b[43mpdf_path\u001b[49m\u001b[43m)\u001b[49m\n\u001b[0;32m     10\u001b[0m \u001b[38;5;28;01mif\u001b[39;00m text:\n\u001b[0;32m     11\u001b[0m     \u001b[38;5;66;03m# Summarize the extracted text\u001b[39;00m\n\u001b[0;32m     12\u001b[0m     summary1 \u001b[38;5;241m=\u001b[39m clean_text(text)\n",
      "Cell \u001b[1;32mIn[20], line 4\u001b[0m, in \u001b[0;36mextract_text_from_pdf\u001b[1;34m(pdf_path)\u001b[0m\n\u001b[0;32m      2\u001b[0m \u001b[38;5;28;01mdef\u001b[39;00m \u001b[38;5;21mextract_text_from_pdf\u001b[39m(pdf_path):\n\u001b[0;32m      3\u001b[0m     \u001b[38;5;28;01mtry\u001b[39;00m:\n\u001b[1;32m----> 4\u001b[0m         images \u001b[38;5;241m=\u001b[39m \u001b[43mconvert_from_path\u001b[49m\u001b[43m(\u001b[49m\u001b[43mpdf_path\u001b[49m\u001b[43m)\u001b[49m  \u001b[38;5;66;03m# Convert PDF to images\u001b[39;00m\n\u001b[0;32m      5\u001b[0m         text \u001b[38;5;241m=\u001b[39m \u001b[38;5;124m\"\u001b[39m\u001b[38;5;124m\"\u001b[39m\n\u001b[0;32m      6\u001b[0m         \u001b[38;5;28;01mfor\u001b[39;00m page_num, image \u001b[38;5;129;01min\u001b[39;00m \u001b[38;5;28menumerate\u001b[39m(images):\n",
      "File \u001b[1;32mc:\\Users\\AbhinavKasubojula\\OneDrive - Kenall Inc\\Desktop\\code\\.venv\\Lib\\site-packages\\pdf2image\\pdf2image.py:251\u001b[0m, in \u001b[0;36mconvert_from_path\u001b[1;34m(pdf_path, dpi, output_folder, first_page, last_page, fmt, jpegopt, thread_count, userpw, ownerpw, use_cropbox, strict, transparent, single_file, output_file, poppler_path, grayscale, size, paths_only, use_pdftocairo, timeout, hide_annotations)\u001b[0m\n\u001b[0;32m    249\u001b[0m \u001b[38;5;28;01mfor\u001b[39;00m uid, proc \u001b[38;5;129;01min\u001b[39;00m processes:\n\u001b[0;32m    250\u001b[0m     \u001b[38;5;28;01mtry\u001b[39;00m:\n\u001b[1;32m--> 251\u001b[0m         data, err \u001b[38;5;241m=\u001b[39m \u001b[43mproc\u001b[49m\u001b[38;5;241;43m.\u001b[39;49m\u001b[43mcommunicate\u001b[49m\u001b[43m(\u001b[49m\u001b[43mtimeout\u001b[49m\u001b[38;5;241;43m=\u001b[39;49m\u001b[43mtimeout\u001b[49m\u001b[43m)\u001b[49m\n\u001b[0;32m    252\u001b[0m     \u001b[38;5;28;01mexcept\u001b[39;00m TimeoutExpired:\n\u001b[0;32m    253\u001b[0m         proc\u001b[38;5;241m.\u001b[39mkill()\n",
      "File \u001b[1;32m~\\AppData\\Local\\Programs\\Python\\Python312\\Lib\\subprocess.py:1209\u001b[0m, in \u001b[0;36mPopen.communicate\u001b[1;34m(self, input, timeout)\u001b[0m\n\u001b[0;32m   1206\u001b[0m     endtime \u001b[38;5;241m=\u001b[39m \u001b[38;5;28;01mNone\u001b[39;00m\n\u001b[0;32m   1208\u001b[0m \u001b[38;5;28;01mtry\u001b[39;00m:\n\u001b[1;32m-> 1209\u001b[0m     stdout, stderr \u001b[38;5;241m=\u001b[39m \u001b[38;5;28;43mself\u001b[39;49m\u001b[38;5;241;43m.\u001b[39;49m\u001b[43m_communicate\u001b[49m\u001b[43m(\u001b[49m\u001b[38;5;28;43minput\u001b[39;49m\u001b[43m,\u001b[49m\u001b[43m \u001b[49m\u001b[43mendtime\u001b[49m\u001b[43m,\u001b[49m\u001b[43m \u001b[49m\u001b[43mtimeout\u001b[49m\u001b[43m)\u001b[49m\n\u001b[0;32m   1210\u001b[0m \u001b[38;5;28;01mexcept\u001b[39;00m \u001b[38;5;167;01mKeyboardInterrupt\u001b[39;00m:\n\u001b[0;32m   1211\u001b[0m     \u001b[38;5;66;03m# https://bugs.python.org/issue25942\u001b[39;00m\n\u001b[0;32m   1212\u001b[0m     \u001b[38;5;66;03m# See the detailed comment in .wait().\u001b[39;00m\n\u001b[0;32m   1213\u001b[0m     \u001b[38;5;28;01mif\u001b[39;00m timeout \u001b[38;5;129;01mis\u001b[39;00m \u001b[38;5;129;01mnot\u001b[39;00m \u001b[38;5;28;01mNone\u001b[39;00m:\n",
      "File \u001b[1;32m~\\AppData\\Local\\Programs\\Python\\Python312\\Lib\\subprocess.py:1628\u001b[0m, in \u001b[0;36mPopen._communicate\u001b[1;34m(self, input, endtime, orig_timeout)\u001b[0m\n\u001b[0;32m   1624\u001b[0m \u001b[38;5;66;03m# Wait for the reader threads, or time out.  If we time out, the\u001b[39;00m\n\u001b[0;32m   1625\u001b[0m \u001b[38;5;66;03m# threads remain reading and the fds left open in case the user\u001b[39;00m\n\u001b[0;32m   1626\u001b[0m \u001b[38;5;66;03m# calls communicate again.\u001b[39;00m\n\u001b[0;32m   1627\u001b[0m \u001b[38;5;28;01mif\u001b[39;00m \u001b[38;5;28mself\u001b[39m\u001b[38;5;241m.\u001b[39mstdout \u001b[38;5;129;01mis\u001b[39;00m \u001b[38;5;129;01mnot\u001b[39;00m \u001b[38;5;28;01mNone\u001b[39;00m:\n\u001b[1;32m-> 1628\u001b[0m     \u001b[38;5;28;43mself\u001b[39;49m\u001b[38;5;241;43m.\u001b[39;49m\u001b[43mstdout_thread\u001b[49m\u001b[38;5;241;43m.\u001b[39;49m\u001b[43mjoin\u001b[49m\u001b[43m(\u001b[49m\u001b[38;5;28;43mself\u001b[39;49m\u001b[38;5;241;43m.\u001b[39;49m\u001b[43m_remaining_time\u001b[49m\u001b[43m(\u001b[49m\u001b[43mendtime\u001b[49m\u001b[43m)\u001b[49m\u001b[43m)\u001b[49m\n\u001b[0;32m   1629\u001b[0m     \u001b[38;5;28;01mif\u001b[39;00m \u001b[38;5;28mself\u001b[39m\u001b[38;5;241m.\u001b[39mstdout_thread\u001b[38;5;241m.\u001b[39mis_alive():\n\u001b[0;32m   1630\u001b[0m         \u001b[38;5;28;01mraise\u001b[39;00m TimeoutExpired(\u001b[38;5;28mself\u001b[39m\u001b[38;5;241m.\u001b[39margs, orig_timeout)\n",
      "File \u001b[1;32m~\\AppData\\Local\\Programs\\Python\\Python312\\Lib\\threading.py:1147\u001b[0m, in \u001b[0;36mThread.join\u001b[1;34m(self, timeout)\u001b[0m\n\u001b[0;32m   1144\u001b[0m     \u001b[38;5;28;01mraise\u001b[39;00m \u001b[38;5;167;01mRuntimeError\u001b[39;00m(\u001b[38;5;124m\"\u001b[39m\u001b[38;5;124mcannot join current thread\u001b[39m\u001b[38;5;124m\"\u001b[39m)\n\u001b[0;32m   1146\u001b[0m \u001b[38;5;28;01mif\u001b[39;00m timeout \u001b[38;5;129;01mis\u001b[39;00m \u001b[38;5;28;01mNone\u001b[39;00m:\n\u001b[1;32m-> 1147\u001b[0m     \u001b[38;5;28;43mself\u001b[39;49m\u001b[38;5;241;43m.\u001b[39;49m\u001b[43m_wait_for_tstate_lock\u001b[49m\u001b[43m(\u001b[49m\u001b[43m)\u001b[49m\n\u001b[0;32m   1148\u001b[0m \u001b[38;5;28;01melse\u001b[39;00m:\n\u001b[0;32m   1149\u001b[0m     \u001b[38;5;66;03m# the behavior of a negative timeout isn't documented, but\u001b[39;00m\n\u001b[0;32m   1150\u001b[0m     \u001b[38;5;66;03m# historically .join(timeout=x) for x<0 has acted as if timeout=0\u001b[39;00m\n\u001b[0;32m   1151\u001b[0m     \u001b[38;5;28mself\u001b[39m\u001b[38;5;241m.\u001b[39m_wait_for_tstate_lock(timeout\u001b[38;5;241m=\u001b[39m\u001b[38;5;28mmax\u001b[39m(timeout, \u001b[38;5;241m0\u001b[39m))\n",
      "File \u001b[1;32m~\\AppData\\Local\\Programs\\Python\\Python312\\Lib\\threading.py:1167\u001b[0m, in \u001b[0;36mThread._wait_for_tstate_lock\u001b[1;34m(self, block, timeout)\u001b[0m\n\u001b[0;32m   1164\u001b[0m     \u001b[38;5;28;01mreturn\u001b[39;00m\n\u001b[0;32m   1166\u001b[0m \u001b[38;5;28;01mtry\u001b[39;00m:\n\u001b[1;32m-> 1167\u001b[0m     \u001b[38;5;28;01mif\u001b[39;00m \u001b[43mlock\u001b[49m\u001b[38;5;241;43m.\u001b[39;49m\u001b[43macquire\u001b[49m\u001b[43m(\u001b[49m\u001b[43mblock\u001b[49m\u001b[43m,\u001b[49m\u001b[43m \u001b[49m\u001b[43mtimeout\u001b[49m\u001b[43m)\u001b[49m:\n\u001b[0;32m   1168\u001b[0m         lock\u001b[38;5;241m.\u001b[39mrelease()\n\u001b[0;32m   1169\u001b[0m         \u001b[38;5;28mself\u001b[39m\u001b[38;5;241m.\u001b[39m_stop()\n",
      "\u001b[1;31mKeyboardInterrupt\u001b[0m: "
     ]
    }
   ],
   "source": [
    "# Run the process\n",
    "sum_dict=[]\n",
    "embeddings =[]\n",
    "summary_text =[]\n",
    "sum_dict, embeddings, summary_text = process(sum_dict, embeddings, summary_text)\n",
    "#\n",
    "for i in range(len(sum_dict)):\n",
    "    sum_dict[i][\"vector\"] = embeddings[i].tolist()\n",
    "    sum_dict[i][\"summary\"] = summary_text[i]"
   ]
  },
  {
   "cell_type": "code",
   "execution_count": null,
   "metadata": {},
   "outputs": [],
   "source": []
  },
  {
   "cell_type": "code",
   "execution_count": null,
   "metadata": {},
   "outputs": [],
   "source": []
  },
  {
   "cell_type": "code",
   "execution_count": 13,
   "metadata": {},
   "outputs": [],
   "source": [
    "import weaviate\n",
    "from weaviate.classes.config import Configure\n",
    "import weaviate\n",
    "import weaviate.classes as wvc\n",
    "from weaviate.classes.config import Property, DataType\n",
    "import ollama\n",
    "\n",
    "\n",
    "# Work with Weaviate\n"
   ]
  },
  {
   "cell_type": "code",
   "execution_count": 11,
   "metadata": {},
   "outputs": [
    {
     "name": "stdout",
     "output_type": "stream",
     "text": [
      "{'grpcMaxMessageSize': 10485760, 'hostname': 'http://[::]:8080', 'modules': {}, 'version': '1.28.1'}\n"
     ]
    }
   ],
   "source": [
    "import weaviate\n",
    "\n",
    "client = weaviate.connect_to_local(port=8082)\n",
    "\n",
    "try:\n",
    "    meta_info = client.get_meta()\n",
    "    print(meta_info)\n",
    "\n",
    "finally:\n",
    "    client.close()"
   ]
  },
  {
   "cell_type": "code",
   "execution_count": 14,
   "metadata": {},
   "outputs": [
    {
     "name": "stderr",
     "output_type": "stream",
     "text": [
      "c:\\Users\\AbhinavKasubojula\\OneDrive - Kenall Inc\\Desktop\\code\\.venv\\Lib\\site-packages\\weaviate\\warnings.py:314: ResourceWarning: Con004: The connection to Weaviate was not closed properly. This can lead to memory leaks.\n",
      "            Please make sure to close the connection using `client.close()`.\n",
      "  warnings.warn(\n"
     ]
    },
    {
     "ename": "UnexpectedStatusCodeError",
     "evalue": "Collection may not have been created properly.! Unexpected status code: 422, with response body: {'error': [{'message': 'vectorizer: no module with name \"text2vec-ollama\" present'}]}.",
     "output_type": "error",
     "traceback": [
      "\u001b[1;31m---------------------------------------------------------------------------\u001b[0m",
      "\u001b[1;31mUnexpectedStatusCodeError\u001b[0m                 Traceback (most recent call last)",
      "Cell \u001b[1;32mIn[14], line 6\u001b[0m\n\u001b[0;32m      4\u001b[0m     client\u001b[38;5;241m.\u001b[39mcollections\u001b[38;5;241m.\u001b[39mdelete(name\u001b[38;5;241m=\u001b[39mcompanies)\n\u001b[0;32m      5\u001b[0m     \u001b[38;5;28mprint\u001b[39m(\u001b[38;5;124m\"\u001b[39m\u001b[38;5;124mExisting\u001b[39m\u001b[38;5;124m\"\u001b[39m, companies ,\u001b[38;5;124m\"\u001b[39m\u001b[38;5;124mcollection deleted.\u001b[39m\u001b[38;5;124m\"\u001b[39m)\n\u001b[1;32m----> 6\u001b[0m \u001b[43mclient\u001b[49m\u001b[38;5;241;43m.\u001b[39;49m\u001b[43mcollections\u001b[49m\u001b[38;5;241;43m.\u001b[39;49m\u001b[43mcreate\u001b[49m\u001b[43m(\u001b[49m\n\u001b[0;32m      7\u001b[0m \u001b[43m    \u001b[49m\u001b[43mname\u001b[49m\u001b[38;5;241;43m=\u001b[39;49m\u001b[38;5;124;43m\"\u001b[39;49m\u001b[38;5;124;43mDemoCollection\u001b[39;49m\u001b[38;5;124;43m\"\u001b[39;49m\u001b[43m,\u001b[49m\n\u001b[0;32m      8\u001b[0m \u001b[43m    \u001b[49m\u001b[43mgenerative_config\u001b[49m\u001b[38;5;241;43m=\u001b[39;49m\u001b[43mwvc\u001b[49m\u001b[38;5;241;43m.\u001b[39;49m\u001b[43mconfig\u001b[49m\u001b[38;5;241;43m.\u001b[39;49m\u001b[43mConfigure\u001b[49m\u001b[38;5;241;43m.\u001b[39;49m\u001b[43mGenerative\u001b[49m\u001b[38;5;241;43m.\u001b[39;49m\u001b[43mollama\u001b[49m\u001b[43m(\u001b[49m\n\u001b[0;32m      9\u001b[0m \u001b[43m        \u001b[49m\u001b[43mapi_endpoint\u001b[49m\u001b[38;5;241;43m=\u001b[39;49m\u001b[38;5;124;43m\"\u001b[39;49m\u001b[38;5;124;43mhttp://host.docker.internal:11434\u001b[39;49m\u001b[38;5;124;43m\"\u001b[39;49m\u001b[43m,\u001b[49m\u001b[43m  \u001b[49m\u001b[38;5;66;43;03m# If using Docker, use this to contact your local Ollama instance\u001b[39;49;00m\n\u001b[0;32m     10\u001b[0m \u001b[43m        \u001b[49m\u001b[43mmodel\u001b[49m\u001b[38;5;241;43m=\u001b[39;49m\u001b[38;5;124;43m\"\u001b[39;49m\u001b[38;5;124;43mllama3.2-vision:latest\u001b[39;49m\u001b[38;5;124;43m\"\u001b[39;49m\u001b[43m  \u001b[49m\n\u001b[0;32m     11\u001b[0m \u001b[43m    \u001b[49m\u001b[43m)\u001b[49m\u001b[43m,\u001b[49m\n\u001b[0;32m     12\u001b[0m \u001b[43m    \u001b[49m\u001b[43mvectorizer_config\u001b[49m\u001b[38;5;241;43m=\u001b[39;49m\u001b[43mConfigure\u001b[49m\u001b[38;5;241;43m.\u001b[39;49m\u001b[43mVectorizer\u001b[49m\u001b[38;5;241;43m.\u001b[39;49m\u001b[43mtext2vec_ollama\u001b[49m\u001b[43m(\u001b[49m\n\u001b[0;32m     13\u001b[0m \u001b[43m    \u001b[49m\u001b[43mapi_endpoint\u001b[49m\u001b[38;5;241;43m=\u001b[39;49m\u001b[38;5;124;43m\"\u001b[39;49m\u001b[38;5;124;43mhttp://host.docker.internal:11434\u001b[39;49m\u001b[38;5;124;43m\"\u001b[39;49m\u001b[43m,\u001b[49m\n\u001b[0;32m     14\u001b[0m \u001b[43m    \u001b[49m\u001b[43mmodel\u001b[49m\u001b[38;5;241;43m=\u001b[39;49m\u001b[38;5;124;43m\"\u001b[39;49m\u001b[38;5;124;43msnowflake-arctic-embed\u001b[39;49m\u001b[38;5;124;43m\"\u001b[39;49m\n\u001b[0;32m     15\u001b[0m \u001b[43m    \u001b[49m\u001b[43m)\u001b[49m\n\u001b[0;32m     16\u001b[0m \n\u001b[0;32m     17\u001b[0m \n\u001b[0;32m     18\u001b[0m \u001b[43m    \u001b[49m\u001b[38;5;66;43;03m# Additional parameters not shown\u001b[39;49;00m\n\u001b[0;32m     19\u001b[0m \u001b[43m)\u001b[49m\n\u001b[0;32m     21\u001b[0m client\u001b[38;5;241m.\u001b[39mclose()\n",
      "File \u001b[1;32mc:\\Users\\AbhinavKasubojula\\OneDrive - Kenall Inc\\Desktop\\code\\.venv\\Lib\\site-packages\\weaviate\\collections\\collections\\sync.py:107\u001b[0m, in \u001b[0;36m_Collections.create\u001b[1;34m(self, name, description, generative_config, inverted_index_config, multi_tenancy_config, properties, references, replication_config, reranker_config, sharding_config, vector_index_config, vectorizer_config, data_model_properties, data_model_references, skip_argument_validation)\u001b[0m\n\u001b[0;32m     36\u001b[0m \u001b[38;5;28;01mdef\u001b[39;00m \u001b[38;5;21mcreate\u001b[39m(\n\u001b[0;32m     37\u001b[0m     \u001b[38;5;28mself\u001b[39m,\n\u001b[0;32m     38\u001b[0m     name: \u001b[38;5;28mstr\u001b[39m,\n\u001b[1;32m   (...)\u001b[0m\n\u001b[0;32m     55\u001b[0m     skip_argument_validation: \u001b[38;5;28mbool\u001b[39m \u001b[38;5;241m=\u001b[39m \u001b[38;5;28;01mFalse\u001b[39;00m,\n\u001b[0;32m     56\u001b[0m ) \u001b[38;5;241m-\u001b[39m\u001b[38;5;241m>\u001b[39m Collection[Properties, References]:\n\u001b[0;32m     57\u001b[0m \u001b[38;5;250m    \u001b[39m\u001b[38;5;124;03m\"\"\"Use this method to create a collection in Weaviate and immediately return a collection object.\u001b[39;00m\n\u001b[0;32m     58\u001b[0m \n\u001b[0;32m     59\u001b[0m \u001b[38;5;124;03m    This method takes several arguments that allow you to configure the collection to your liking. Each argument\u001b[39;00m\n\u001b[1;32m   (...)\u001b[0m\n\u001b[0;32m    105\u001b[0m \u001b[38;5;124;03m            If Weaviate reports a non-OK status.\u001b[39;00m\n\u001b[0;32m    106\u001b[0m \u001b[38;5;124;03m    \"\"\"\u001b[39;00m\n\u001b[1;32m--> 107\u001b[0m     \u001b[38;5;28;43mself\u001b[39;49m\u001b[38;5;241;43m.\u001b[39;49m\u001b[43m__loop\u001b[49m\u001b[38;5;241;43m.\u001b[39;49m\u001b[43mrun_until_complete\u001b[49m\u001b[43m(\u001b[49m\n\u001b[0;32m    108\u001b[0m \u001b[43m        \u001b[49m\u001b[38;5;28;43mself\u001b[39;49m\u001b[38;5;241;43m.\u001b[39;49m\u001b[43m__collections\u001b[49m\u001b[38;5;241;43m.\u001b[39;49m\u001b[43mcreate\u001b[49m\u001b[43m,\u001b[49m\n\u001b[0;32m    109\u001b[0m \u001b[43m        \u001b[49m\u001b[43mname\u001b[49m\u001b[43m,\u001b[49m\n\u001b[0;32m    110\u001b[0m \u001b[43m        \u001b[49m\u001b[43mdescription\u001b[49m\u001b[38;5;241;43m=\u001b[39;49m\u001b[43mdescription\u001b[49m\u001b[43m,\u001b[49m\n\u001b[0;32m    111\u001b[0m \u001b[43m        \u001b[49m\u001b[43mgenerative_config\u001b[49m\u001b[38;5;241;43m=\u001b[39;49m\u001b[43mgenerative_config\u001b[49m\u001b[43m,\u001b[49m\n\u001b[0;32m    112\u001b[0m \u001b[43m        \u001b[49m\u001b[43minverted_index_config\u001b[49m\u001b[38;5;241;43m=\u001b[39;49m\u001b[43minverted_index_config\u001b[49m\u001b[43m,\u001b[49m\n\u001b[0;32m    113\u001b[0m \u001b[43m        \u001b[49m\u001b[43mmulti_tenancy_config\u001b[49m\u001b[38;5;241;43m=\u001b[39;49m\u001b[43mmulti_tenancy_config\u001b[49m\u001b[43m,\u001b[49m\n\u001b[0;32m    114\u001b[0m \u001b[43m        \u001b[49m\u001b[43mproperties\u001b[49m\u001b[38;5;241;43m=\u001b[39;49m\u001b[43mproperties\u001b[49m\u001b[43m,\u001b[49m\n\u001b[0;32m    115\u001b[0m \u001b[43m        \u001b[49m\u001b[43mreferences\u001b[49m\u001b[38;5;241;43m=\u001b[39;49m\u001b[43mreferences\u001b[49m\u001b[43m,\u001b[49m\n\u001b[0;32m    116\u001b[0m \u001b[43m        \u001b[49m\u001b[43mreplication_config\u001b[49m\u001b[38;5;241;43m=\u001b[39;49m\u001b[43mreplication_config\u001b[49m\u001b[43m,\u001b[49m\n\u001b[0;32m    117\u001b[0m \u001b[43m        \u001b[49m\u001b[43mreranker_config\u001b[49m\u001b[38;5;241;43m=\u001b[39;49m\u001b[43mreranker_config\u001b[49m\u001b[43m,\u001b[49m\n\u001b[0;32m    118\u001b[0m \u001b[43m        \u001b[49m\u001b[43msharding_config\u001b[49m\u001b[38;5;241;43m=\u001b[39;49m\u001b[43msharding_config\u001b[49m\u001b[43m,\u001b[49m\n\u001b[0;32m    119\u001b[0m \u001b[43m        \u001b[49m\u001b[43mvector_index_config\u001b[49m\u001b[38;5;241;43m=\u001b[39;49m\u001b[43mvector_index_config\u001b[49m\u001b[43m,\u001b[49m\n\u001b[0;32m    120\u001b[0m \u001b[43m        \u001b[49m\u001b[43mvectorizer_config\u001b[49m\u001b[38;5;241;43m=\u001b[39;49m\u001b[43mvectorizer_config\u001b[49m\u001b[43m,\u001b[49m\n\u001b[0;32m    121\u001b[0m \u001b[43m        \u001b[49m\u001b[43mdata_model_properties\u001b[49m\u001b[38;5;241;43m=\u001b[39;49m\u001b[43mdata_model_properties\u001b[49m\u001b[43m,\u001b[49m\n\u001b[0;32m    122\u001b[0m \u001b[43m        \u001b[49m\u001b[43mdata_model_references\u001b[49m\u001b[38;5;241;43m=\u001b[39;49m\u001b[43mdata_model_references\u001b[49m\u001b[43m,\u001b[49m\n\u001b[0;32m    123\u001b[0m \u001b[43m        \u001b[49m\u001b[43mskip_argument_validation\u001b[49m\u001b[38;5;241;43m=\u001b[39;49m\u001b[43mskip_argument_validation\u001b[49m\u001b[43m,\u001b[49m\n\u001b[0;32m    124\u001b[0m \u001b[43m    \u001b[49m\u001b[43m)\u001b[49m\n\u001b[0;32m    125\u001b[0m     \u001b[38;5;28;01mreturn\u001b[39;00m \u001b[38;5;28mself\u001b[39m\u001b[38;5;241m.\u001b[39mget(\n\u001b[0;32m    126\u001b[0m         name,\n\u001b[0;32m    127\u001b[0m         data_model_properties\u001b[38;5;241m=\u001b[39mdata_model_properties,\n\u001b[0;32m    128\u001b[0m         data_model_references\u001b[38;5;241m=\u001b[39mdata_model_references,\n\u001b[0;32m    129\u001b[0m         skip_argument_validation\u001b[38;5;241m=\u001b[39mskip_argument_validation,\n\u001b[0;32m    130\u001b[0m     )\n",
      "File \u001b[1;32mc:\\Users\\AbhinavKasubojula\\OneDrive - Kenall Inc\\Desktop\\code\\.venv\\Lib\\site-packages\\weaviate\\event_loop.py:42\u001b[0m, in \u001b[0;36m_EventLoop.run_until_complete\u001b[1;34m(self, f, *args, **kwargs)\u001b[0m\n\u001b[0;32m     40\u001b[0m     \u001b[38;5;28;01mraise\u001b[39;00m WeaviateClosedClientError()\n\u001b[0;32m     41\u001b[0m fut \u001b[38;5;241m=\u001b[39m asyncio\u001b[38;5;241m.\u001b[39mrun_coroutine_threadsafe(f(\u001b[38;5;241m*\u001b[39margs, \u001b[38;5;241m*\u001b[39m\u001b[38;5;241m*\u001b[39mkwargs), \u001b[38;5;28mself\u001b[39m\u001b[38;5;241m.\u001b[39mloop)\n\u001b[1;32m---> 42\u001b[0m \u001b[38;5;28;01mreturn\u001b[39;00m \u001b[43mfut\u001b[49m\u001b[38;5;241;43m.\u001b[39;49m\u001b[43mresult\u001b[49m\u001b[43m(\u001b[49m\u001b[43m)\u001b[49m\n",
      "File \u001b[1;32m~\\AppData\\Local\\Programs\\Python\\Python312\\Lib\\concurrent\\futures\\_base.py:456\u001b[0m, in \u001b[0;36mFuture.result\u001b[1;34m(self, timeout)\u001b[0m\n\u001b[0;32m    454\u001b[0m     \u001b[38;5;28;01mraise\u001b[39;00m CancelledError()\n\u001b[0;32m    455\u001b[0m \u001b[38;5;28;01melif\u001b[39;00m \u001b[38;5;28mself\u001b[39m\u001b[38;5;241m.\u001b[39m_state \u001b[38;5;241m==\u001b[39m FINISHED:\n\u001b[1;32m--> 456\u001b[0m     \u001b[38;5;28;01mreturn\u001b[39;00m \u001b[38;5;28;43mself\u001b[39;49m\u001b[38;5;241;43m.\u001b[39;49m\u001b[43m__get_result\u001b[49m\u001b[43m(\u001b[49m\u001b[43m)\u001b[49m\n\u001b[0;32m    457\u001b[0m \u001b[38;5;28;01melse\u001b[39;00m:\n\u001b[0;32m    458\u001b[0m     \u001b[38;5;28;01mraise\u001b[39;00m \u001b[38;5;167;01mTimeoutError\u001b[39;00m()\n",
      "File \u001b[1;32m~\\AppData\\Local\\Programs\\Python\\Python312\\Lib\\concurrent\\futures\\_base.py:401\u001b[0m, in \u001b[0;36mFuture.__get_result\u001b[1;34m(self)\u001b[0m\n\u001b[0;32m    399\u001b[0m \u001b[38;5;28;01mif\u001b[39;00m \u001b[38;5;28mself\u001b[39m\u001b[38;5;241m.\u001b[39m_exception:\n\u001b[0;32m    400\u001b[0m     \u001b[38;5;28;01mtry\u001b[39;00m:\n\u001b[1;32m--> 401\u001b[0m         \u001b[38;5;28;01mraise\u001b[39;00m \u001b[38;5;28mself\u001b[39m\u001b[38;5;241m.\u001b[39m_exception\n\u001b[0;32m    402\u001b[0m     \u001b[38;5;28;01mfinally\u001b[39;00m:\n\u001b[0;32m    403\u001b[0m         \u001b[38;5;66;03m# Break a reference cycle with the exception in self._exception\u001b[39;00m\n\u001b[0;32m    404\u001b[0m         \u001b[38;5;28mself\u001b[39m \u001b[38;5;241m=\u001b[39m \u001b[38;5;28;01mNone\u001b[39;00m\n",
      "File \u001b[1;32mc:\\Users\\AbhinavKasubojula\\OneDrive - Kenall Inc\\Desktop\\code\\.venv\\Lib\\site-packages\\weaviate\\collections\\collections\\async_.py:134\u001b[0m, in \u001b[0;36m_CollectionsAsync.create\u001b[1;34m(self, name, description, generative_config, inverted_index_config, multi_tenancy_config, properties, references, replication_config, reranker_config, sharding_config, vector_index_config, vectorizer_config, data_model_properties, data_model_references, skip_argument_validation)\u001b[0m\n\u001b[0;32m    130\u001b[0m \u001b[38;5;28;01mexcept\u001b[39;00m ValidationError \u001b[38;5;28;01mas\u001b[39;00m e:\n\u001b[0;32m    131\u001b[0m     \u001b[38;5;28;01mraise\u001b[39;00m WeaviateInvalidInputError(\n\u001b[0;32m    132\u001b[0m         \u001b[38;5;124mf\u001b[39m\u001b[38;5;124m\"\u001b[39m\u001b[38;5;124mInvalid collection config create parameters: \u001b[39m\u001b[38;5;132;01m{\u001b[39;00me\u001b[38;5;132;01m}\u001b[39;00m\u001b[38;5;124m\"\u001b[39m\n\u001b[0;32m    133\u001b[0m     ) \u001b[38;5;28;01mfrom\u001b[39;00m \u001b[38;5;21;01me\u001b[39;00m\n\u001b[1;32m--> 134\u001b[0m name \u001b[38;5;241m=\u001b[39m \u001b[38;5;28;01mawait\u001b[39;00m \u001b[38;5;28msuper\u001b[39m()\u001b[38;5;241m.\u001b[39m_create(config\u001b[38;5;241m.\u001b[39m_to_dict())\n\u001b[0;32m    135\u001b[0m \u001b[38;5;28;01massert\u001b[39;00m (\n\u001b[0;32m    136\u001b[0m     config\u001b[38;5;241m.\u001b[39mname \u001b[38;5;241m==\u001b[39m name\n\u001b[0;32m    137\u001b[0m ), \u001b[38;5;124mf\u001b[39m\u001b[38;5;124m\"\u001b[39m\u001b[38;5;124mName of created collection (\u001b[39m\u001b[38;5;132;01m{\u001b[39;00mname\u001b[38;5;132;01m}\u001b[39;00m\u001b[38;5;124m) does not match given name (\u001b[39m\u001b[38;5;132;01m{\u001b[39;00mconfig\u001b[38;5;241m.\u001b[39mname\u001b[38;5;132;01m}\u001b[39;00m\u001b[38;5;124m)\u001b[39m\u001b[38;5;124m\"\u001b[39m\n\u001b[0;32m    138\u001b[0m \u001b[38;5;28;01mreturn\u001b[39;00m \u001b[38;5;28mself\u001b[39m\u001b[38;5;241m.\u001b[39mget(\n\u001b[0;32m    139\u001b[0m     name,\n\u001b[0;32m    140\u001b[0m     data_model_properties,\n\u001b[0;32m    141\u001b[0m     data_model_references,\n\u001b[0;32m    142\u001b[0m     skip_argument_validation\u001b[38;5;241m=\u001b[39mskip_argument_validation,\n\u001b[0;32m    143\u001b[0m )\n",
      "File \u001b[1;32mc:\\Users\\AbhinavKasubojula\\OneDrive - Kenall Inc\\Desktop\\code\\.venv\\Lib\\site-packages\\weaviate\\collections\\collections\\base.py:27\u001b[0m, in \u001b[0;36m_CollectionsBase._create\u001b[1;34m(self, config)\u001b[0m\n\u001b[0;32m     23\u001b[0m \u001b[38;5;28;01masync\u001b[39;00m \u001b[38;5;28;01mdef\u001b[39;00m \u001b[38;5;21m_create\u001b[39m(\n\u001b[0;32m     24\u001b[0m     \u001b[38;5;28mself\u001b[39m,\n\u001b[0;32m     25\u001b[0m     config: \u001b[38;5;28mdict\u001b[39m,\n\u001b[0;32m     26\u001b[0m ) \u001b[38;5;241m-\u001b[39m\u001b[38;5;241m>\u001b[39m \u001b[38;5;28mstr\u001b[39m:\n\u001b[1;32m---> 27\u001b[0m     response \u001b[38;5;241m=\u001b[39m \u001b[38;5;28;01mawait\u001b[39;00m \u001b[38;5;28mself\u001b[39m\u001b[38;5;241m.\u001b[39m_connection\u001b[38;5;241m.\u001b[39mpost(\n\u001b[0;32m     28\u001b[0m         path\u001b[38;5;241m=\u001b[39m\u001b[38;5;124m\"\u001b[39m\u001b[38;5;124m/schema\u001b[39m\u001b[38;5;124m\"\u001b[39m,\n\u001b[0;32m     29\u001b[0m         weaviate_object\u001b[38;5;241m=\u001b[39mconfig,\n\u001b[0;32m     30\u001b[0m         error_msg\u001b[38;5;241m=\u001b[39m\u001b[38;5;124m\"\u001b[39m\u001b[38;5;124mCollection may not have been created properly.\u001b[39m\u001b[38;5;124m\"\u001b[39m,\n\u001b[0;32m     31\u001b[0m         status_codes\u001b[38;5;241m=\u001b[39m_ExpectedStatusCodes(ok_in\u001b[38;5;241m=\u001b[39m\u001b[38;5;241m200\u001b[39m, error\u001b[38;5;241m=\u001b[39m\u001b[38;5;124m\"\u001b[39m\u001b[38;5;124mCreate collection\u001b[39m\u001b[38;5;124m\"\u001b[39m),\n\u001b[0;32m     32\u001b[0m     )\n\u001b[0;32m     34\u001b[0m     collection_name \u001b[38;5;241m=\u001b[39m response\u001b[38;5;241m.\u001b[39mjson()[\u001b[38;5;124m\"\u001b[39m\u001b[38;5;124mclass\u001b[39m\u001b[38;5;124m\"\u001b[39m]\n\u001b[0;32m     35\u001b[0m     \u001b[38;5;28;01massert\u001b[39;00m \u001b[38;5;28misinstance\u001b[39m(collection_name, \u001b[38;5;28mstr\u001b[39m)\n",
      "File \u001b[1;32mc:\\Users\\AbhinavKasubojula\\OneDrive - Kenall Inc\\Desktop\\code\\.venv\\Lib\\site-packages\\weaviate\\connect\\v4.py:534\u001b[0m, in \u001b[0;36mConnectionV4.post\u001b[1;34m(self, path, weaviate_object, params, error_msg, status_codes, is_gql_query)\u001b[0m\n\u001b[0;32m    525\u001b[0m \u001b[38;5;28;01masync\u001b[39;00m \u001b[38;5;28;01mdef\u001b[39;00m \u001b[38;5;21mpost\u001b[39m(\n\u001b[0;32m    526\u001b[0m     \u001b[38;5;28mself\u001b[39m,\n\u001b[0;32m    527\u001b[0m     path: \u001b[38;5;28mstr\u001b[39m,\n\u001b[1;32m   (...)\u001b[0m\n\u001b[0;32m    532\u001b[0m     is_gql_query: \u001b[38;5;28mbool\u001b[39m \u001b[38;5;241m=\u001b[39m \u001b[38;5;28;01mFalse\u001b[39;00m,\n\u001b[0;32m    533\u001b[0m ) \u001b[38;5;241m-\u001b[39m\u001b[38;5;241m>\u001b[39m Response:\n\u001b[1;32m--> 534\u001b[0m     \u001b[38;5;28;01mreturn\u001b[39;00m \u001b[38;5;28;01mawait\u001b[39;00m \u001b[38;5;28mself\u001b[39m\u001b[38;5;241m.\u001b[39m__send(\n\u001b[0;32m    535\u001b[0m         \u001b[38;5;124m\"\u001b[39m\u001b[38;5;124mPOST\u001b[39m\u001b[38;5;124m\"\u001b[39m,\n\u001b[0;32m    536\u001b[0m         url\u001b[38;5;241m=\u001b[39m\u001b[38;5;28mself\u001b[39m\u001b[38;5;241m.\u001b[39murl \u001b[38;5;241m+\u001b[39m \u001b[38;5;28mself\u001b[39m\u001b[38;5;241m.\u001b[39m_api_version_path \u001b[38;5;241m+\u001b[39m path,\n\u001b[0;32m    537\u001b[0m         weaviate_object\u001b[38;5;241m=\u001b[39mweaviate_object,\n\u001b[0;32m    538\u001b[0m         params\u001b[38;5;241m=\u001b[39mparams,\n\u001b[0;32m    539\u001b[0m         error_msg\u001b[38;5;241m=\u001b[39merror_msg,\n\u001b[0;32m    540\u001b[0m         status_codes\u001b[38;5;241m=\u001b[39mstatus_codes,\n\u001b[0;32m    541\u001b[0m         is_gql_query\u001b[38;5;241m=\u001b[39mis_gql_query,\n\u001b[0;32m    542\u001b[0m     )\n",
      "File \u001b[1;32mc:\\Users\\AbhinavKasubojula\\OneDrive - Kenall Inc\\Desktop\\code\\.venv\\Lib\\site-packages\\weaviate\\connect\\v4.py:489\u001b[0m, in \u001b[0;36mConnectionV4.__send\u001b[1;34m(self, method, url, error_msg, status_codes, is_gql_query, weaviate_object, params)\u001b[0m\n\u001b[0;32m    487\u001b[0m     \u001b[38;5;28;01mraise\u001b[39;00m WeaviateTimeoutError(error_msg) \u001b[38;5;28;01mfrom\u001b[39;00m \u001b[38;5;21;01mread_err\u001b[39;00m\n\u001b[0;32m    488\u001b[0m \u001b[38;5;28;01mexcept\u001b[39;00m \u001b[38;5;167;01mException\u001b[39;00m \u001b[38;5;28;01mas\u001b[39;00m e:\n\u001b[1;32m--> 489\u001b[0m     \u001b[38;5;28;01mraise\u001b[39;00m e\n",
      "File \u001b[1;32mc:\\Users\\AbhinavKasubojula\\OneDrive - Kenall Inc\\Desktop\\code\\.venv\\Lib\\site-packages\\weaviate\\connect\\v4.py:480\u001b[0m, in \u001b[0;36mConnectionV4.__send\u001b[1;34m(self, method, url, error_msg, status_codes, is_gql_query, weaviate_object, params)\u001b[0m\n\u001b[0;32m    478\u001b[0m         \u001b[38;5;28;01mraise\u001b[39;00m InsufficientPermissionsError(res)\n\u001b[0;32m    479\u001b[0m     \u001b[38;5;28;01mif\u001b[39;00m status_codes \u001b[38;5;129;01mis\u001b[39;00m \u001b[38;5;129;01mnot\u001b[39;00m \u001b[38;5;28;01mNone\u001b[39;00m \u001b[38;5;129;01mand\u001b[39;00m res\u001b[38;5;241m.\u001b[39mstatus_code \u001b[38;5;129;01mnot\u001b[39;00m \u001b[38;5;129;01min\u001b[39;00m status_codes\u001b[38;5;241m.\u001b[39mok:\n\u001b[1;32m--> 480\u001b[0m         \u001b[38;5;28;01mraise\u001b[39;00m UnexpectedStatusCodeError(error_msg, response\u001b[38;5;241m=\u001b[39mres)\n\u001b[0;32m    481\u001b[0m     \u001b[38;5;28;01mreturn\u001b[39;00m cast(Response, res)\n\u001b[0;32m    482\u001b[0m \u001b[38;5;28;01mexcept\u001b[39;00m \u001b[38;5;167;01mRuntimeError\u001b[39;00m \u001b[38;5;28;01mas\u001b[39;00m e:\n",
      "\u001b[1;31mUnexpectedStatusCodeError\u001b[0m: Collection may not have been created properly.! Unexpected status code: 422, with response body: {'error': [{'message': 'vectorizer: no module with name \"text2vec-ollama\" present'}]}."
     ]
    }
   ],
   "source": [
    "client = weaviate.connect_to_local(port=8082)\n",
    "companies = \"DemoCollection\"\n",
    "if client.collections.exists(name=companies):\n",
    "    client.collections.delete(name=companies)\n",
    "    print(\"Existing\", companies ,\"collection deleted.\")\n",
    "client.collections.create(\n",
    "    name=\"DemoCollection\",\n",
    "    generative_config=wvc.config.Configure.Generative.ollama(\n",
    "        api_endpoint=\"http://host.docker.internal:11434\",  # If using Docker, use this to contact your local Ollama instance\n",
    "        model=\"llama3.2-vision:latest\"  \n",
    "    ),\n",
    "    vectorizer_config=Configure.Vectorizer.text2vec_ollama(\n",
    "    api_endpoint=\"http://host.docker.internal:11434\",\n",
    "    model=\"snowflake-arctic-embed\"\n",
    "    )\n",
    "\n",
    "\n",
    "    # Additional parameters not shown\n",
    ")\n",
    "\n",
    "client.close()\n"
   ]
  },
  {
   "cell_type": "code",
   "execution_count": 93,
   "metadata": {},
   "outputs": [],
   "source": [
    "client = weaviate.connect_to_local(port=8080)\n",
    "demo = client.collections.get(\"DemoCollection\")\n",
    "with demo.batch.dynamic() as batch:\n",
    "    for d in sum_dict:\n",
    "        employee_uuid = batch.add_object({\n",
    "            \n",
    "            \"Name\": d[\"Name\"],\n",
    "            \"role\": d[\"Role\"],\n",
    "            \"company\": d[\"Company\"],\n",
    "            \"experience\": d[\"Experience\"],\n",
    "            \"projects\": d.get(\"Projects\", \"not found\"),\n",
    "            \"summary\": d[\"summary\"],\n",
    "        })\n",
    "client.close()"
   ]
  },
  {
   "cell_type": "code",
   "execution_count": 94,
   "metadata": {},
   "outputs": [
    {
     "name": "stdout",
     "output_type": "stream",
     "text": [
      "{'projects': '', 'company': 'SAI-Kenall JV', 'qualification': None, 'roles_responsibilities': None, 'summary': 'Company: SAI-Kenall JV\\nName: Brett Witte, PE\\nSummary of Qualifications:\\n\\n Education: BS in Civil Engineering, 2005\\n Role: Project Manager / Civil Engineer with 18 years of experience\\n Licenses: PE (Civil), FL #70720\\n Qualifications: Skilled at H&H modeling, civil infrastructure design, construction plans production using MicroStation and AutoCAD, quantity take-offs, cost estimates, construction phase support, and as-built certifications.\\n Experience:\\n\\t+ Project Manager / Civil Engineer for various projects including:\\n\\t\\t- Paint and Sandblast Facility, USCG Miami Station, FL (2021)\\n\\t\\t- Relocate AGE Refueling Station, MacDill AFB, Tampa, FL (2019)\\n\\t\\t- CES and FES Warehouses, MacDill AFB, Tampa, FL (2020)\\n\\t\\t- USACE Fort Worth District - A-E Services for Red River Army Depot — Install Security Fences and Repair Buildings, Texarkana, TX (2019)\\n Projects:\\n\\t+ Paint and Sandblast Facility:\\n\\t\\t- Coordinated between disciplines\\n\\t\\t- Led civil design (utilities, layout, grading, drainage) through 65%, 95%, and 100% design documents\\n\\t\\t- Provided construction administration services including on-site inspections, shop drawing reviews, and responded to questions/clarifications from the Contractor.\\n\\t+ Relocate AGE Refueling Station:\\n\\t\\t- Coordinated between disciplines\\n\\t\\t- Design engineer for the preparation of construction plans and conducting QC reviews of the design\\n\\t\\t- Responsible for permitting through various jurisdictions and attendance at design review meetings.\\n\\t+ CES and FES Warehouses:\\n\\t\\t- Coordinated between disciplines\\n\\t\\t- Design engineer for the preparation of construction plans and conducting QC reviews of the design\\n\\t\\t- Conducted H&H calculations and modeling for design of the stormwater pond\\n\\t\\t- Responsible for coordination with the Water Management District (WMD) and preparing permit application package.\\n\\t+ USACE Fort Worth District - A-E Services for Red River Army Depot — Install Security Fences and Repair Buildings:\\n\\t\\t- Civil Engineer\\n\\t\\t- Performed QC of 65%, 95%, and 100% design documents for scope elements such as swing gates, roadway, side-walks, and fire station.\\n\\t\\t- Reviewed responses to DrChecks comments.', 'role': 'Project Manager / Civil Engineer with 18 years of experience', 'experience': '', 'name': 'Brett Witte, PE'}\n",
      "{'projects': '  1. USACE Fort Worth District - Renovation of Buildings 16, 44, 615, 2002, and 2006 Program/Project Manager Managed contract, coordinated with USACE and subcontractors, and preparation of full construction plans', 'company': 'Kenall-Hana JV, LLC', 'qualification': None, 'summary': 'Here is the summarized resume in the requested format:\\n\\nName: Kris D. Prasad, P.E.\\nRole: Program/Project Manager\\nCompany: Kenall-Hana JV, LLC\\nLicenses:\\n\\t P.E. (Civil): TX #91952, LA #34186, NM #20737, PR #28316\\n\\nEducation Qualification: M.S., Civil Engineering, 1992\\n\\nQualifications:\\n\\n Over 29 years of professional engineering and management experience\\n Experience with various federal, state, municipal and local programs\\n Currently serving as task order manager for USACE Fort Worth and Tulsa Districts on various civil works and military projects\\n Previously served as task order manager for two (2) NAVFAC Southeast projects in Meridian Base\\n\\nExperience:\\n\\n Program/Project Manager at Kenall-Hana JV, LLC (20 years)\\n\\t+ Managed contract, coordinated with USACE and subcontractors, and preparation of full construction plans\\n\\t+ Coordinated with design team and USACE on negotiations, change orders and amendments\\n Task Order Manager for USACE Fort Worth and Tulsa Districts (various projects)\\n\\nProjects:\\n\\n1. USACE Fort Worth District - Renovation of Buildings 16, 44, 615, 2002, and 2006\\n\\t Program/Project Manager\\n\\t Managed contract, coordinated with USACE and subcontractors, and preparation of full construction plans\\n\\t+ Cost: $31M\\n2. USACE Fort Worth District - Repair Fire Protection, Install Security Fences and Repairs of Buildings at Red River Army Depot\\n\\t Program/Project Manager\\n\\t+ Responsible for contract management, client interaction, and QC\\n\\t+ Coordinated with design team and USACE on negotiations, change orders and amendments\\n\\t+ Cost: $16.5M\\n3. USACE Fort Worth District - Repair North Fort Hood Drainage\\n\\t Program/Project Manager\\n\\t+ Performed contract management, coordinated with USACE, Fort Hood base personnel and subcontractors, and QC of deliverables\\n\\t+ Corrected drainage at NFH Cantonment to prevent roads and airstrips overtopping and inundation during 25-year storm event\\n\\t+ Cost: $5.5M\\n4. NAVFAC Southeast - Site Preparation for Digital Airport Surveillance Radar (DASR)\\n\\t Program/Project Manager\\n\\t+ Oversaw site investigation and reviewed seismic site evaluation as per ASCE 31\\n\\t+ Performed client coordination, monitored cost and schedule, and QA/QC of deliverables\\n\\t+ Cost: $890K', 'roles_responsibilities': None, 'role': 'Program/Project Manager', 'experience': '  Program/Project Manager at Kenall-Hana JV, LLC (20 years) + Managed contract, coordinated with USACE and subcontractors, and preparation of full construction plans + Coordinated with design team and USACE on negotiations, change orders and amendments Task Order Manager for USACE Fort Worth and Tulsa Districts (various projects) ', 'name': 'Kris D. Prasad, P.E.'}\n",
      "{'projects': ' ', 'company': 'SAT-Kenall JV, Houston, TX ', 'qualification': None, 'roles_responsibilities': None, 'summary': 'Based on the provided text, I will extract and summarize the information in a structured format as per your requirements. Here is the summarized resume:\\n\\nName: Kris D. Prasad\\nEducation Qualification: MS, Civil Engineering (1992)\\nRole: Program Manager/Senior Structural Engineer\\nLicenses:\\n\\t PE (Civil): TX #91952 (2003), LA #34186, NM #20737, PR# 28316\\nCompany: SAT-Kenall JV, Houston, TX\\n\\nQualifications:\\n\\n Over 29 years of professional engineering and management experience\\n Experience with various federal, state, municipal, and local programs\\n Currently serving as Program Manager for USACE Fort Worth and Tulsa Districts on civil works and military projects\\n Previously served as Task Order Manager for two NAVFAC Southeast projects in Meridian Base\\n\\nExperience:\\n\\n 29 years of experience in engineering and management\\n Experience with various federal, state, municipal, and local programs\\n Currently serving as Program Manager for USACE Fort Worth and Tulsa Districts on civil works and military projects\\n\\nProjects:\\n\\n1. USACE Fort Worth District - Renovation of Buildings 16, 44, 615, 2002, and _progressiona services: 2022\\n\\t Project location: Fort Sam Houston, TX\\n\\t Brief description: Renovation of five historical buildings (total 100,400 SF renovation area) to provide functional administrative office space with a 25-year usable life. Cost: $31M.\\n\\t Specific role: Program Manager/Senior Structural Engineer\\n2. USACE Fort Worth District - Repair Fire Protection, Install Security Fences and Repairs of Buildings at Red River Army Depot, Texarkana, TX construction: 2022\\n\\t Project location: Red River Army Depot, Texarkana, TX\\n\\t Brief description: Preparation of full construction plans and specs for 27 facility projects including major renovations to a warehouse and a fire station. Cost: $16.5M.\\n\\t Specific role: Program Manager/Senior Structural Engineer\\n3. USACE Fort Worth District - Design of Tactical Equipment Maintenance Facility (TEMF) Renovations at Fort Hood, TX construction: 2022\\n\\t Project location: Fort Hood, TX\\n\\t Brief description: Preparation of 4 separate 100% plans & specifications packages for each battalion TEMF. Cost: $22M.\\n\\t Specific role: Program Manager/Senior Structural Engineer\\n4. USACE Fort Worth District - Repair Building B499 Randolph Air Force Base, _proressionat services: 2019\\n\\t Project location: Randolph Air Force Base, TX\\n\\t Brief description: Renovation of the entire 3rd floor of building B499, HQ at Air Force Personnel Center. Cost: $3.8M.\\n\\t Specific role: Program Manager/Senior Structural Engineer\\n\\nRoles and Responsibilities:\\n\\n Contract management\\n Client interaction\\n QC (Quality Control)\\n Design development\\n Timely submissions\\n Monitoring project schedule\\n Addressing quality control comments\\n Reviewing structural steel calculations', 'role': 'Program Manager/Senior Structural Engineer', 'experience': '  29 years of experience in engineering and management Experience with various federal, state, municipal, and local programs Currently serving as Program Manager for USACE Fort Worth and Tulsa Districts on civil works and military projects ', 'name': 'Kris D. Prasad'}\n",
      "{'projects': '  1. USACE Fort Worth District - Renovation of Buildings 16, 44, 615, and 2002', 'company': 'SAT-Kenall JV ', 'qualification': None, 'roles_responsibilities': None, 'summary': 'Based on the provided text, I have summarized and structured the information into the required categories:\\n\\nName: Srujan Chikyala\\nRole: Project Manager\\nCompany: SAT-Kenall JV\\n\\nEducation Qualification:\\n- Degree: MS (Master of Science)\\n- Specialization: Civil Engineering\\n- Year: 2008\\n\\nLicenses:\\n- PE (Professional Engineer): TX #122374 (2015)\\n\\nQualifications:\\n- Provides 13 years of experience leading DB and DBB RFP packages for MILCON and SRM projects at USACE and NAVFAC military facilities and civil works projects for USACE, USDA-NRCS, IBWC, and US Fish & Wildlife Service.\\n- Served as a Project Manager on about 75+ engineering projects for federal, public works, and public entities that include military facilities, utilities, drainage structures, roadways, bridges, dams, levees, facilities, and other flood control structures for various federal clients.\\n- Organizations: SAME (Society of American Military Engineers), ASCE (American Society of Civil Engineers), ACEC (American Council of Engineering Companies)\\n\\nExperience:\\n- Project Manager with 13 years of experience leading DB and DBB RFP packages for MILCON and SRM projects at USACE and NAVFAC military facilities and civil works projects.\\n\\nProjects:\\n\\n1. USACE Fort Worth District - Renovation of Buildings 16, 44, 615, and 2002\\n- Location: Fort Sam Houston, TX\\n- Year Completed: 2022\\n- Brief Description: Renovation of five historical buildings (total 100,400 SF renovation area) that range from 100-130 years old to provide functional administrative office space with a 25-year usable life.\\n- Cost: $31M\\n\\n2. USACE Fort Worth District - Design of Tactical Equipment Maintenance Facility (TEMF) Renovations at Fort Hood, TX\\n- Year Completed: 2019\\n- Brief Description: Bring four TEMFs to meet current design standard (UFC 4-214-02) to enhance functionality to meet mission requirements and achieve a longer useful life.\\n- Cost: $22M\\n\\n3. USACE Fort Worth District - AE Services for Design-Build Repair Building 6426, Hangar 3\\n- Location: Barksdale AFB, LA\\n- Year Completed: 2020\\n- Brief Description: Renovate a hangar that resulted in a usable facility conforming to UFC & USAF design criteria.\\n- Cost: $6.6M\\n\\n4. USACE Fort Worth District - Repair Building B499 Randolph Air Force Base\\n- Location: TX\\n- Year Completed: 2022\\n- Brief Description: Renovate the entire 3rd floor of B499, HQ, at Air Force Personnel Center.\\n- Cost: $3.8M', 'role': 'Project Manager', 'experience': ' - Project Manager with 13 years of experience leading DB and DBB RFP packages for MILCON and SRM projects at USACE and NAVFAC military facilities and civil works projects. ', 'name': 'Srujan Chikyala'}\n",
      "{'projects': '  1. Paint and Sandblast Facility, USCG Miami Station, FL (2021) Sr. Civil Engineer for the construction of a new paint and sandblast facility Provided design oversite for the civil components of the project 2. Relocate AGE Refueling Station, MacDill AFB, Tampa, FL (2019) Sr. Civil Engineer for the relocation of an Aerospace Ground Equipment refueling station Provided design direction and construction administration services 3. CES and FES Warehouses, MacDill AFB, Tampa, FL (2020-2021) Sr. Civil Engineer for the design of two new pre-engineered storage facilities Provided design QC and construction administration services 4. USACE Fort Worth District - A-E Services for Renovation of Buildings 16, 44, 615, 2002 and 2006, JBSA, Fort Sam Houston, TX (2022-2023) Sr. Civil Engineer for the full renovation of historical buildings Performed peer review of civil design and design review of concrete pad required to house outdoor equipment 5. Rio Puerto Nuevo Notre Dame Bridge Replacement (CNTSA), San Juan, PR (2022) Sr. Civil Engineer for the relocation of all utilities associated with the replacement of the Notre Dame Bridge ', 'company': 'SAI-Kenall JV, Orlando, FL ', 'qualification': None, 'roles_responsibilities': None, 'summary': 'Here is the summarized resume with highlighted main points:\\n\\nName: Robert Gaylord, PE\\n\\nEducation Qualification: BS, Civil Engineering, 1987\\n\\nRole: Sr. Civil Engineer\\n\\nLicenses:\\n\\n PE (Civil): FL #51373 (1997)\\n\\nCompany: SAI-Kenall JV, Orlando, FL\\n\\nQualifications:\\n\\n 35 years of experience in engineering design, analysis, and technical specifications\\n Expertise in civil infrastructure design, including site design, utilities, roads, parking, airfields, parks, pump stations, and stormwater management\\n 30-year expertise in complex H&H modeling and flood control design\\n\\nExperience:\\n\\n Conducted engineering design, analysis, and developed technical specifications for civil infrastructure design projects\\n Led and supported projects for USACE Districts, US Air Force, and other federal agencies\\n Administered construction & implementation of project designs\\n\\nProjects:\\n\\n1. Paint and Sandblast Facility, USCG Miami Station, FL (2021)\\n\\t Sr. Civil Engineer for the construction of a new paint and sandblast facility\\n\\t Provided design oversite for the civil components of the project\\n2. Relocate AGE Refueling Station, MacDill AFB, Tampa, FL (2019)\\n\\t Sr. Civil Engineer for the relocation of an Aerospace Ground Equipment refueling station\\n\\t Provided design direction and construction administration services\\n3. CES and FES Warehouses, MacDill AFB, Tampa, FL (2020-2021)\\n\\t Sr. Civil Engineer for the design of two new pre-engineered storage facilities\\n\\t Provided design QC and construction administration services\\n4. USACE Fort Worth District - A-E Services for Renovation of Buildings 16, 44, 615, 2002 and 2006, JBSA, Fort Sam Houston, TX (2022-2023)\\n\\t Sr. Civil Engineer for the full renovation of historical buildings\\n\\t Performed peer review of civil design and design review of concrete pad required to house outdoor equipment\\n5. Rio Puerto Nuevo Notre Dame Bridge Replacement (CNTSA), San Juan, PR (2022)\\n\\t Sr. Civil Engineer for the relocation of all utilities associated with the replacement of the Notre Dame Bridge\\n\\nRoles and Responsibilities:\\n\\n Conducted QC review for design drawings and documents\\n Provided design direction through 65%, 95%, and 100% design documents\\n Attended design review meetings and coordinated comment responses to the Client at each deliverables phase\\n Performed peer review of civil design, including site work, utilities, landscaping, and drainage\\n Reviewed drainage design and also ADA compliant pathways', 'role': 'Sr. Civil Engineer ', 'experience': '  Conducted engineering design, analysis, and developed technical specifications for civil infrastructure design projects Led and supported projects for USACE Districts, US Air Force, and other federal agencies Administered construction & implementation of project designs ', 'name': 'Robert Gaylord, PE '}\n",
      "{'name': 'Robert Morris, AIA, RID DQC Manager ', 'company': 'SAI-Kenall JV, Houston, TX ', 'qualification': None, 'roles_responsibilities': None, 'summary': 'Here is the summarized resume of Robert Morris:\\n\\nName: Robert Morris, AIA, RID DQC Manager\\n\\nEducation Qualification: BA, Architectural Design, 1981\\n\\nRole: DQC Manager\\n\\nLicenses:\\n\\n Registered Architect: TX #12112 (1987)\\n Registered Interior Designer: TX # 1985 (1993)\\n\\nCompany: SAI-Kenall JV, Houston, TX\\n\\nQualifications:\\n\\n Accomplished DQC manager, architect, and innovator with experience in a wide range of building projects and systems\\n Experienced in master planning, programming, and design of architectural projects with construction administration\\n Performed over 100 detailed Facility Condition Assessments (FCAs) over the past fifteen years\\n\\nExperience:\\n\\n USACE Fort Worth District - Renovation of Buildings 16, 44, 615 (2002-2022)\\n\\t+ DQC Manager for development of 5 separate plans and specs to renovate five historical buildings\\n\\t+ Prepared DQC plan and ensured quality of all deliverables\\n USACE Fort Worth District - Design of Tactical Equipment Maintenance Facility (TEMF) Renovations at Fort Hood, TX (2019-2022)\\n\\t+ DQC Manager for developing 4 separate DBB RFP packages for each battalion TEMF\\n\\t+ Prepared DQC plan and ensured quality of all deliverables\\n USACE Fort Worth District - Repair Building B499 Randolph Air Force Base, TX (2019-2022)\\n\\t+ DQC Manager for development of a D-B-B RFP to renovate the entire 3rd floor of B499\\n\\t+ Prepared DQC plan and ensured quality of all deliverables\\n Canadian River Wagon Bridge Deck Replacement, TX (2015)\\n\\t+ DQC Manager. The Project consisted of complete replacement of wood bridge decking for the sixteen-foot wide, 4,235 ft. long, Pin Truss, Canadian River Wagon Bridge built in 1916 and renovated in 2000.\\n\\nProjects:\\n\\n USACE Fort Worth District - Renovation of Buildings 16, 44, 615 (2002-2022)\\n USACE Fort Worth District - Design of Tactical Equipment Maintenance Facility (TEMF) Renovations at Fort Hood, TX (2019-2022)\\n USACE Fort Worth District - Repair Building B499 Randolph Air Force Base, TX (2019-2022)\\n Canadian River Wagon Bridge Deck Replacement, TX (2015)\\n\\nRoles and Responsibilities:\\n\\n Prepared DQC plan and ensured quality of all deliverables\\n Reviewed architectural designs including renovation of buildings\\n Performed Quality Assurance reviews of all design deliverables\\n Oversaw onsite design development workshops, functional analysis, and schematics.', 'role': 'DQC Manager ', 'experience': '  USACE Fort Worth District - Renovation of Buildings 16, 44, 615 (2002-2022) + DQC Manager for development of 5 separate plans and specs to renovate five historical buildings + Prepared DQC plan and ensured quality of all deliverables USACE Fort Worth District - Design of Tactical Equipment Maintenance Facility (TEMF) Renovations at Fort Hood, TX (2019-2022) + DQC Manager for developing 4 separate DBB RFP packages for each battalion TEMF + Prepared DQC plan and ensured quality of all deliverables USACE Fort Worth District - Repair Building B499 Randolph Air Force Base, TX (2019-2022) + DQC Manager for development of a D-B-B RFP to renovate the entire 3rd floor of B499 + Prepared DQC plan and ensured quality of all deliverables Canadian River Wagon Bridge Deck Replacement, TX (2015) + DQC Manager. The Project consisted of complete replacement of wood bridge decking for the sixteen-foot wide, 4,235 ft. long, Pin Truss, Canadian River Wagon Bridge built in 1916 and renovated in 2000. ', 'projects': '  USACE Fort Worth District - Renovation of Buildings 16, 44, 615 (2002-2022) USACE Fort Worth District - Design of Tactical Equipment Maintenance Facility (TEMF) Renovations at Fort Hood, TX (2019-2022) USACE Fort Worth District - Repair Building B499 Randolph Air Force Base, TX (2019-2022) Canadian River Wagon Bridge Deck Replacement, TX (2015) '}\n"
     ]
    }
   ],
   "source": [
    "client = weaviate.connect_to_local(port=8080)\n",
    "demo = client.collections.get(\"DemoCollection\")\n",
    "for i in demo.iterator():\n",
    "    print(i.properties)\n"
   ]
  },
  {
   "cell_type": "code",
   "execution_count": 97,
   "metadata": {},
   "outputs": [
    {
     "ename": "WeaviateQueryError",
     "evalue": "Query call with protocol GRPC search failed with message <AioRpcError of RPC that terminated with:\n\tstatus = StatusCode.UNKNOWN\n\tdetails = \"explorer: get class: vectorize params: could not vectorize input for collection DemoCollection with search-type nearText. Make sure a vectorizer module is configured for this collection\"\n\tdebug_error_string = \"UNKNOWN:Error received from peer  {created_time:\"2025-01-15T05:54:36.168911+00:00\", grpc_status:2, grpc_message:\"explorer: get class: vectorize params: could not vectorize input for collection DemoCollection with search-type nearText. Make sure a vectorizer module is configured for this collection\"}\"\n>.",
     "output_type": "error",
     "traceback": [
      "\u001b[1;31m---------------------------------------------------------------------------\u001b[0m",
      "\u001b[1;31mAioRpcError\u001b[0m                               Traceback (most recent call last)",
      "File \u001b[1;32mc:\\Users\\AbhinavKasubojula\\OneDrive - Kenall Inc\\Desktop\\code\\.venv\\Lib\\site-packages\\weaviate\\collections\\grpc\\query.py:805\u001b[0m, in \u001b[0;36m_QueryGRPC.__call\u001b[1;34m(self, request)\u001b[0m\n\u001b[0;32m    804\u001b[0m \u001b[38;5;28;01massert\u001b[39;00m \u001b[38;5;28mself\u001b[39m\u001b[38;5;241m.\u001b[39m_connection\u001b[38;5;241m.\u001b[39mgrpc_stub \u001b[38;5;129;01mis\u001b[39;00m \u001b[38;5;129;01mnot\u001b[39;00m \u001b[38;5;28;01mNone\u001b[39;00m\n\u001b[1;32m--> 805\u001b[0m res \u001b[38;5;241m=\u001b[39m \u001b[38;5;28;01mawait\u001b[39;00m _Retry(\u001b[38;5;241m4\u001b[39m)\u001b[38;5;241m.\u001b[39mwith_exponential_backoff(\n\u001b[0;32m    806\u001b[0m     \u001b[38;5;241m0\u001b[39m,\n\u001b[0;32m    807\u001b[0m     \u001b[38;5;124mf\u001b[39m\u001b[38;5;124m\"\u001b[39m\u001b[38;5;124mSearching in collection \u001b[39m\u001b[38;5;132;01m{\u001b[39;00mrequest\u001b[38;5;241m.\u001b[39mcollection\u001b[38;5;132;01m}\u001b[39;00m\u001b[38;5;124m\"\u001b[39m,\n\u001b[0;32m    808\u001b[0m     \u001b[38;5;28mself\u001b[39m\u001b[38;5;241m.\u001b[39m_connection\u001b[38;5;241m.\u001b[39mgrpc_stub\u001b[38;5;241m.\u001b[39mSearch,\n\u001b[0;32m    809\u001b[0m     request,\n\u001b[0;32m    810\u001b[0m     metadata\u001b[38;5;241m=\u001b[39m\u001b[38;5;28mself\u001b[39m\u001b[38;5;241m.\u001b[39m_connection\u001b[38;5;241m.\u001b[39mgrpc_headers(),\n\u001b[0;32m    811\u001b[0m     timeout\u001b[38;5;241m=\u001b[39m\u001b[38;5;28mself\u001b[39m\u001b[38;5;241m.\u001b[39m_connection\u001b[38;5;241m.\u001b[39mtimeout_config\u001b[38;5;241m.\u001b[39mquery,\n\u001b[0;32m    812\u001b[0m )\n\u001b[0;32m    813\u001b[0m \u001b[38;5;28;01mreturn\u001b[39;00m cast(search_get_pb2\u001b[38;5;241m.\u001b[39mSearchReply, res)\n",
      "File \u001b[1;32mc:\\Users\\AbhinavKasubojula\\OneDrive - Kenall Inc\\Desktop\\code\\.venv\\Lib\\site-packages\\weaviate\\collections\\grpc\\retry.py:31\u001b[0m, in \u001b[0;36m_Retry.with_exponential_backoff\u001b[1;34m(self, count, error, f, *args, **kwargs)\u001b[0m\n\u001b[0;32m     30\u001b[0m \u001b[38;5;28;01mif\u001b[39;00m e\u001b[38;5;241m.\u001b[39mcode() \u001b[38;5;241m!=\u001b[39m StatusCode\u001b[38;5;241m.\u001b[39mUNAVAILABLE:\n\u001b[1;32m---> 31\u001b[0m     \u001b[38;5;28;01mraise\u001b[39;00m e\n\u001b[0;32m     32\u001b[0m logger\u001b[38;5;241m.\u001b[39minfo(\n\u001b[0;32m     33\u001b[0m     \u001b[38;5;124mf\u001b[39m\u001b[38;5;124m\"\u001b[39m\u001b[38;5;132;01m{\u001b[39;00merror\u001b[38;5;132;01m}\u001b[39;00m\u001b[38;5;124m received exception: \u001b[39m\u001b[38;5;132;01m{\u001b[39;00me\u001b[38;5;132;01m}\u001b[39;00m\u001b[38;5;124m. Retrying with exponential backoff in \u001b[39m\u001b[38;5;132;01m{\u001b[39;00m\u001b[38;5;241m2\u001b[39m\u001b[38;5;241m*\u001b[39m\u001b[38;5;241m*\u001b[39mcount\u001b[38;5;132;01m}\u001b[39;00m\u001b[38;5;124m seconds\u001b[39m\u001b[38;5;124m\"\u001b[39m\n\u001b[0;32m     34\u001b[0m )\n",
      "File \u001b[1;32mc:\\Users\\AbhinavKasubojula\\OneDrive - Kenall Inc\\Desktop\\code\\.venv\\Lib\\site-packages\\weaviate\\collections\\grpc\\retry.py:28\u001b[0m, in \u001b[0;36m_Retry.with_exponential_backoff\u001b[1;34m(self, count, error, f, *args, **kwargs)\u001b[0m\n\u001b[0;32m     27\u001b[0m \u001b[38;5;28;01mtry\u001b[39;00m:\n\u001b[1;32m---> 28\u001b[0m     \u001b[38;5;28;01mreturn\u001b[39;00m \u001b[38;5;28;01mawait\u001b[39;00m f(\u001b[38;5;241m*\u001b[39margs, \u001b[38;5;241m*\u001b[39m\u001b[38;5;241m*\u001b[39mkwargs)\n\u001b[0;32m     29\u001b[0m \u001b[38;5;28;01mexcept\u001b[39;00m AioRpcError \u001b[38;5;28;01mas\u001b[39;00m e:\n",
      "File \u001b[1;32mc:\\Users\\AbhinavKasubojula\\OneDrive - Kenall Inc\\Desktop\\code\\.venv\\Lib\\site-packages\\grpc\\aio\\_call.py:327\u001b[0m, in \u001b[0;36m_UnaryResponseMixin.__await__\u001b[1;34m(self)\u001b[0m\n\u001b[0;32m    326\u001b[0m     \u001b[38;5;28;01melse\u001b[39;00m:\n\u001b[1;32m--> 327\u001b[0m         \u001b[38;5;28;01mraise\u001b[39;00m _create_rpc_error(\n\u001b[0;32m    328\u001b[0m             \u001b[38;5;28mself\u001b[39m\u001b[38;5;241m.\u001b[39m_cython_call\u001b[38;5;241m.\u001b[39m_initial_metadata,\n\u001b[0;32m    329\u001b[0m             \u001b[38;5;28mself\u001b[39m\u001b[38;5;241m.\u001b[39m_cython_call\u001b[38;5;241m.\u001b[39m_status,\n\u001b[0;32m    330\u001b[0m         )\n\u001b[0;32m    331\u001b[0m \u001b[38;5;28;01melse\u001b[39;00m:\n",
      "\u001b[1;31mAioRpcError\u001b[0m: <AioRpcError of RPC that terminated with:\n\tstatus = StatusCode.UNKNOWN\n\tdetails = \"explorer: get class: vectorize params: could not vectorize input for collection DemoCollection with search-type nearText. Make sure a vectorizer module is configured for this collection\"\n\tdebug_error_string = \"UNKNOWN:Error received from peer  {created_time:\"2025-01-15T05:54:36.168911+00:00\", grpc_status:2, grpc_message:\"explorer: get class: vectorize params: could not vectorize input for collection DemoCollection with search-type nearText. Make sure a vectorizer module is configured for this collection\"}\"\n>",
      "\nDuring handling of the above exception, another exception occurred:\n",
      "\u001b[1;31mWeaviateQueryError\u001b[0m                        Traceback (most recent call last)",
      "Cell \u001b[1;32mIn[97], line 3\u001b[0m\n\u001b[0;32m      1\u001b[0m collection \u001b[38;5;241m=\u001b[39m client\u001b[38;5;241m.\u001b[39mcollections\u001b[38;5;241m.\u001b[39mget(\u001b[38;5;124m\"\u001b[39m\u001b[38;5;124mDemoCollection\u001b[39m\u001b[38;5;124m\"\u001b[39m)\n\u001b[1;32m----> 3\u001b[0m response \u001b[38;5;241m=\u001b[39m \u001b[43mcollection\u001b[49m\u001b[38;5;241;43m.\u001b[39;49m\u001b[43mgenerate\u001b[49m\u001b[38;5;241;43m.\u001b[39;49m\u001b[43mnear_text\u001b[49m\u001b[43m(\u001b[49m\n\u001b[0;32m      4\u001b[0m \u001b[43m    \u001b[49m\u001b[43mquery\u001b[49m\u001b[38;5;241;43m=\u001b[39;49m\u001b[38;5;124;43m\"\u001b[39;49m\u001b[38;5;124;43msrujan\u001b[39;49m\u001b[38;5;124;43m\"\u001b[39;49m\u001b[43m \u001b[49m\u001b[43m,\u001b[49m\u001b[43m  \u001b[49m\u001b[38;5;66;43;03m# The model provider integration will automatically vectorize the query\u001b[39;49;00m\n\u001b[0;32m      5\u001b[0m \u001b[43m    \u001b[49m\u001b[43msingle_prompt\u001b[49m\u001b[38;5;241;43m=\u001b[39;49m\u001b[38;5;124;43m\"\u001b[39;49m\u001b[38;5;124;43mTranslate this into French: \u001b[39;49m\u001b[38;5;132;43;01m{projects}\u001b[39;49;00m\u001b[38;5;124;43m\"\u001b[39;49m\u001b[43m,\u001b[49m\n\u001b[0;32m      6\u001b[0m \u001b[43m    \u001b[49m\u001b[43mlimit\u001b[49m\u001b[38;5;241;43m=\u001b[39;49m\u001b[38;5;241;43m2\u001b[39;49m\n\u001b[0;32m      7\u001b[0m \u001b[43m)\u001b[49m\n\u001b[0;32m      9\u001b[0m \u001b[38;5;28;01mfor\u001b[39;00m obj \u001b[38;5;129;01min\u001b[39;00m response\u001b[38;5;241m.\u001b[39mobjects:\n\u001b[0;32m     10\u001b[0m     \u001b[38;5;28mprint\u001b[39m(obj\u001b[38;5;241m.\u001b[39mproperties[\u001b[38;5;124m\"\u001b[39m\u001b[38;5;124mtitle\u001b[39m\u001b[38;5;124m\"\u001b[39m])\n",
      "File \u001b[1;32mc:\\Users\\AbhinavKasubojula\\OneDrive - Kenall Inc\\Desktop\\code\\.venv\\Lib\\site-packages\\weaviate\\syncify.py:23\u001b[0m, in \u001b[0;36mconvert.<locals>.sync_method\u001b[1;34m(self, __new_name, *args, **kwargs)\u001b[0m\n\u001b[0;32m     20\u001b[0m \u001b[38;5;129m@wraps\u001b[39m(method)  \u001b[38;5;66;03m# type: ignore\u001b[39;00m\n\u001b[0;32m     21\u001b[0m \u001b[38;5;28;01mdef\u001b[39;00m \u001b[38;5;21msync_method\u001b[39m(\u001b[38;5;28mself\u001b[39m, \u001b[38;5;241m*\u001b[39margs, __new_name\u001b[38;5;241m=\u001b[39mnew_name, \u001b[38;5;241m*\u001b[39m\u001b[38;5;241m*\u001b[39mkwargs):\n\u001b[0;32m     22\u001b[0m     async_func \u001b[38;5;241m=\u001b[39m \u001b[38;5;28mgetattr\u001b[39m(\u001b[38;5;28mcls\u001b[39m, __new_name)\n\u001b[1;32m---> 23\u001b[0m     \u001b[38;5;28;01mreturn\u001b[39;00m \u001b[43m_EventLoopSingleton\u001b[49m\u001b[38;5;241;43m.\u001b[39;49m\u001b[43mget_instance\u001b[49m\u001b[43m(\u001b[49m\u001b[43m)\u001b[49m\u001b[38;5;241;43m.\u001b[39;49m\u001b[43mrun_until_complete\u001b[49m\u001b[43m(\u001b[49m\n\u001b[0;32m     24\u001b[0m \u001b[43m        \u001b[49m\u001b[43masync_func\u001b[49m\u001b[43m,\u001b[49m\u001b[43m \u001b[49m\u001b[38;5;28;43mself\u001b[39;49m\u001b[43m,\u001b[49m\u001b[43m \u001b[49m\u001b[38;5;241;43m*\u001b[39;49m\u001b[43margs\u001b[49m\u001b[43m,\u001b[49m\u001b[43m \u001b[49m\u001b[38;5;241;43m*\u001b[39;49m\u001b[38;5;241;43m*\u001b[39;49m\u001b[43mkwargs\u001b[49m\n\u001b[0;32m     25\u001b[0m \u001b[43m    \u001b[49m\u001b[43m)\u001b[49m\n",
      "File \u001b[1;32mc:\\Users\\AbhinavKasubojula\\OneDrive - Kenall Inc\\Desktop\\code\\.venv\\Lib\\site-packages\\weaviate\\event_loop.py:42\u001b[0m, in \u001b[0;36m_EventLoop.run_until_complete\u001b[1;34m(self, f, *args, **kwargs)\u001b[0m\n\u001b[0;32m     40\u001b[0m     \u001b[38;5;28;01mraise\u001b[39;00m WeaviateClosedClientError()\n\u001b[0;32m     41\u001b[0m fut \u001b[38;5;241m=\u001b[39m asyncio\u001b[38;5;241m.\u001b[39mrun_coroutine_threadsafe(f(\u001b[38;5;241m*\u001b[39margs, \u001b[38;5;241m*\u001b[39m\u001b[38;5;241m*\u001b[39mkwargs), \u001b[38;5;28mself\u001b[39m\u001b[38;5;241m.\u001b[39mloop)\n\u001b[1;32m---> 42\u001b[0m \u001b[38;5;28;01mreturn\u001b[39;00m \u001b[43mfut\u001b[49m\u001b[38;5;241;43m.\u001b[39;49m\u001b[43mresult\u001b[49m\u001b[43m(\u001b[49m\u001b[43m)\u001b[49m\n",
      "File \u001b[1;32m~\\AppData\\Local\\Programs\\Python\\Python312\\Lib\\concurrent\\futures\\_base.py:456\u001b[0m, in \u001b[0;36mFuture.result\u001b[1;34m(self, timeout)\u001b[0m\n\u001b[0;32m    454\u001b[0m     \u001b[38;5;28;01mraise\u001b[39;00m CancelledError()\n\u001b[0;32m    455\u001b[0m \u001b[38;5;28;01melif\u001b[39;00m \u001b[38;5;28mself\u001b[39m\u001b[38;5;241m.\u001b[39m_state \u001b[38;5;241m==\u001b[39m FINISHED:\n\u001b[1;32m--> 456\u001b[0m     \u001b[38;5;28;01mreturn\u001b[39;00m \u001b[38;5;28;43mself\u001b[39;49m\u001b[38;5;241;43m.\u001b[39;49m\u001b[43m__get_result\u001b[49m\u001b[43m(\u001b[49m\u001b[43m)\u001b[49m\n\u001b[0;32m    457\u001b[0m \u001b[38;5;28;01melse\u001b[39;00m:\n\u001b[0;32m    458\u001b[0m     \u001b[38;5;28;01mraise\u001b[39;00m \u001b[38;5;167;01mTimeoutError\u001b[39;00m()\n",
      "File \u001b[1;32m~\\AppData\\Local\\Programs\\Python\\Python312\\Lib\\concurrent\\futures\\_base.py:401\u001b[0m, in \u001b[0;36mFuture.__get_result\u001b[1;34m(self)\u001b[0m\n\u001b[0;32m    399\u001b[0m \u001b[38;5;28;01mif\u001b[39;00m \u001b[38;5;28mself\u001b[39m\u001b[38;5;241m.\u001b[39m_exception:\n\u001b[0;32m    400\u001b[0m     \u001b[38;5;28;01mtry\u001b[39;00m:\n\u001b[1;32m--> 401\u001b[0m         \u001b[38;5;28;01mraise\u001b[39;00m \u001b[38;5;28mself\u001b[39m\u001b[38;5;241m.\u001b[39m_exception\n\u001b[0;32m    402\u001b[0m     \u001b[38;5;28;01mfinally\u001b[39;00m:\n\u001b[0;32m    403\u001b[0m         \u001b[38;5;66;03m# Break a reference cycle with the exception in self._exception\u001b[39;00m\n\u001b[0;32m    404\u001b[0m         \u001b[38;5;28mself\u001b[39m \u001b[38;5;241m=\u001b[39m \u001b[38;5;28;01mNone\u001b[39;00m\n",
      "File \u001b[1;32mc:\\Users\\AbhinavKasubojula\\OneDrive - Kenall Inc\\Desktop\\code\\.venv\\Lib\\site-packages\\weaviate\\collections\\queries\\near_text\\generate.py:101\u001b[0m, in \u001b[0;36m_NearTextGenerateAsync.near_text\u001b[1;34m(self, query, single_prompt, grouped_task, grouped_properties, certainty, distance, move_to, move_away, limit, offset, auto_limit, filters, group_by, rerank, target_vector, include_vector, return_metadata, return_properties, return_references)\u001b[0m\n\u001b[0;32m     28\u001b[0m \u001b[38;5;28;01masync\u001b[39;00m \u001b[38;5;28;01mdef\u001b[39;00m \u001b[38;5;21mnear_text\u001b[39m(\n\u001b[0;32m     29\u001b[0m     \u001b[38;5;28mself\u001b[39m,\n\u001b[0;32m     30\u001b[0m     query: Union[List[\u001b[38;5;28mstr\u001b[39m], \u001b[38;5;28mstr\u001b[39m],\n\u001b[1;32m   (...)\u001b[0m\n\u001b[0;32m     49\u001b[0m     return_references: Optional[ReturnReferences[TReferences]] \u001b[38;5;241m=\u001b[39m \u001b[38;5;28;01mNone\u001b[39;00m,\n\u001b[0;32m     50\u001b[0m ) \u001b[38;5;241m-\u001b[39m\u001b[38;5;241m>\u001b[39m GenerativeSearchReturnType[Properties, References, TProperties, TReferences]:\n\u001b[0;32m     51\u001b[0m \u001b[38;5;250m    \u001b[39m\u001b[38;5;124;03m\"\"\"Perform retrieval-augmented generation (RaG) on the results of a by-image object search in this collection using the image-capable vectorization module and vector-based similarity search.\u001b[39;00m\n\u001b[0;32m     52\u001b[0m \n\u001b[0;32m     53\u001b[0m \u001b[38;5;124;03m    See the [docs](https://weaviate.io/developers/weaviate/api/graphql/search-operators#neartext) for a more detailed explanation.\u001b[39;00m\n\u001b[1;32m   (...)\u001b[0m\n\u001b[0;32m     99\u001b[0m \u001b[38;5;124;03m            If the request to the Weaviate server fails.\u001b[39;00m\n\u001b[0;32m    100\u001b[0m \u001b[38;5;124;03m    \"\"\"\u001b[39;00m\n\u001b[1;32m--> 101\u001b[0m     res \u001b[38;5;241m=\u001b[39m \u001b[38;5;28;01mawait\u001b[39;00m \u001b[38;5;28mself\u001b[39m\u001b[38;5;241m.\u001b[39m_query\u001b[38;5;241m.\u001b[39mnear_text(\n\u001b[0;32m    102\u001b[0m         near_text\u001b[38;5;241m=\u001b[39mquery,\n\u001b[0;32m    103\u001b[0m         certainty\u001b[38;5;241m=\u001b[39mcertainty,\n\u001b[0;32m    104\u001b[0m         distance\u001b[38;5;241m=\u001b[39mdistance,\n\u001b[0;32m    105\u001b[0m         move_to\u001b[38;5;241m=\u001b[39mmove_to,\n\u001b[0;32m    106\u001b[0m         move_away\u001b[38;5;241m=\u001b[39mmove_away,\n\u001b[0;32m    107\u001b[0m         limit\u001b[38;5;241m=\u001b[39mlimit,\n\u001b[0;32m    108\u001b[0m         offset\u001b[38;5;241m=\u001b[39moffset,\n\u001b[0;32m    109\u001b[0m         autocut\u001b[38;5;241m=\u001b[39mauto_limit,\n\u001b[0;32m    110\u001b[0m         filters\u001b[38;5;241m=\u001b[39mfilters,\n\u001b[0;32m    111\u001b[0m         group_by\u001b[38;5;241m=\u001b[39m_GroupBy\u001b[38;5;241m.\u001b[39mfrom_input(group_by),\n\u001b[0;32m    112\u001b[0m         rerank\u001b[38;5;241m=\u001b[39mrerank,\n\u001b[0;32m    113\u001b[0m         target_vector\u001b[38;5;241m=\u001b[39mtarget_vector,\n\u001b[0;32m    114\u001b[0m         generative\u001b[38;5;241m=\u001b[39m_Generative(\n\u001b[0;32m    115\u001b[0m             single\u001b[38;5;241m=\u001b[39msingle_prompt,\n\u001b[0;32m    116\u001b[0m             grouped\u001b[38;5;241m=\u001b[39mgrouped_task,\n\u001b[0;32m    117\u001b[0m             grouped_properties\u001b[38;5;241m=\u001b[39mgrouped_properties,\n\u001b[0;32m    118\u001b[0m         ),\n\u001b[0;32m    119\u001b[0m         return_metadata\u001b[38;5;241m=\u001b[39m\u001b[38;5;28mself\u001b[39m\u001b[38;5;241m.\u001b[39m_parse_return_metadata(return_metadata, include_vector),\n\u001b[0;32m    120\u001b[0m         return_properties\u001b[38;5;241m=\u001b[39m\u001b[38;5;28mself\u001b[39m\u001b[38;5;241m.\u001b[39m_parse_return_properties(return_properties),\n\u001b[0;32m    121\u001b[0m         return_references\u001b[38;5;241m=\u001b[39m\u001b[38;5;28mself\u001b[39m\u001b[38;5;241m.\u001b[39m_parse_return_references(return_references),\n\u001b[0;32m    122\u001b[0m     )\n\u001b[0;32m    123\u001b[0m     \u001b[38;5;28;01mreturn\u001b[39;00m \u001b[38;5;28mself\u001b[39m\u001b[38;5;241m.\u001b[39m_result_to_generative_return(\n\u001b[0;32m    124\u001b[0m         res,\n\u001b[0;32m    125\u001b[0m         _QueryOptions\u001b[38;5;241m.\u001b[39mfrom_input(\n\u001b[1;32m   (...)\u001b[0m\n\u001b[0;32m    135\u001b[0m         return_references,\n\u001b[0;32m    136\u001b[0m     )\n",
      "File \u001b[1;32mc:\\Users\\AbhinavKasubojula\\OneDrive - Kenall Inc\\Desktop\\code\\.venv\\Lib\\site-packages\\weaviate\\collections\\grpc\\query.py:817\u001b[0m, in \u001b[0;36m_QueryGRPC.__call\u001b[1;34m(self, request)\u001b[0m\n\u001b[0;32m    815\u001b[0m     \u001b[38;5;28;01mif\u001b[39;00m e\u001b[38;5;241m.\u001b[39mcode()\u001b[38;5;241m.\u001b[39mname \u001b[38;5;241m==\u001b[39m PERMISSION_DENIED:\n\u001b[0;32m    816\u001b[0m         \u001b[38;5;28;01mraise\u001b[39;00m InsufficientPermissionsError(e)\n\u001b[1;32m--> 817\u001b[0m     \u001b[38;5;28;01mraise\u001b[39;00m WeaviateQueryError(\u001b[38;5;28mstr\u001b[39m(e), \u001b[38;5;124m\"\u001b[39m\u001b[38;5;124mGRPC search\u001b[39m\u001b[38;5;124m\"\u001b[39m)  \u001b[38;5;66;03m# pyright: ignore\u001b[39;00m\n\u001b[0;32m    818\u001b[0m \u001b[38;5;28;01mexcept\u001b[39;00m WeaviateRetryError \u001b[38;5;28;01mas\u001b[39;00m e:\n\u001b[0;32m    819\u001b[0m     \u001b[38;5;28;01mraise\u001b[39;00m WeaviateQueryError(\u001b[38;5;28mstr\u001b[39m(e), \u001b[38;5;124m\"\u001b[39m\u001b[38;5;124mGRPC search\u001b[39m\u001b[38;5;124m\"\u001b[39m)\n",
      "\u001b[1;31mWeaviateQueryError\u001b[0m: Query call with protocol GRPC search failed with message <AioRpcError of RPC that terminated with:\n\tstatus = StatusCode.UNKNOWN\n\tdetails = \"explorer: get class: vectorize params: could not vectorize input for collection DemoCollection with search-type nearText. Make sure a vectorizer module is configured for this collection\"\n\tdebug_error_string = \"UNKNOWN:Error received from peer  {created_time:\"2025-01-15T05:54:36.168911+00:00\", grpc_status:2, grpc_message:\"explorer: get class: vectorize params: could not vectorize input for collection DemoCollection with search-type nearText. Make sure a vectorizer module is configured for this collection\"}\"\n>."
     ]
    }
   ],
   "source": [
    "collection = client.collections.get(\"DemoCollection\")\n",
    "\n",
    "response = collection.generate.near_text(\n",
    "    query=\"srujan\" ,  # The model provider integration will automatically vectorize the query\n",
    "    single_prompt=\"Translate this into French: {projects}\",\n",
    "    limit=2\n",
    ")\n",
    "\n",
    "for obj in response.objects:\n",
    "    print(obj.properties[\"title\"])\n",
    "    print(f\"Generated output: {obj.generated}\")  # Note that the generated output is per object"
   ]
  },
  {
   "cell_type": "code",
   "execution_count": null,
   "metadata": {},
   "outputs": [],
   "source": []
  }
 ],
 "metadata": {
  "kernelspec": {
   "display_name": ".venv",
   "language": "python",
   "name": "python3"
  },
  "language_info": {
   "codemirror_mode": {
    "name": "ipython",
    "version": 3
   },
   "file_extension": ".py",
   "mimetype": "text/x-python",
   "name": "python",
   "nbconvert_exporter": "python",
   "pygments_lexer": "ipython3",
   "version": "3.12.4"
  }
 },
 "nbformat": 4,
 "nbformat_minor": 2
}
