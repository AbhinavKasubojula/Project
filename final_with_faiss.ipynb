{
 "cells": [
  {
   "cell_type": "code",
   "execution_count": 32,
   "metadata": {},
   "outputs": [
    {
     "name": "stderr",
     "output_type": "stream",
     "text": [
      "c:\\Users\\AbhinavKasubojula\\OneDrive - Kenall Inc\\Desktop\\code\\.venv\\Lib\\site-packages\\transformers\\tokenization_utils_base.py:1617: FutureWarning: `clean_up_tokenization_spaces` was not set. It will be set to `True` by default. This behavior will be deprecated in transformers v4.45, and will be then set to `False` by default. For more details check this issue: https://github.com/huggingface/transformers/issues/31884\n",
      "  warnings.warn(\n"
     ]
    }
   ],
   "source": [
    "import pinecone\n",
    "from pinecone import Pinecone, ServerlessSpec\n",
    "from sentence_transformers import SentenceTransformer\n",
    "import pandas as pd\n",
    "import time\n",
    "import numpy as np\n",
    "from sklearn.feature_extraction.text import TfidfVectorizer\n",
    "import os\n",
    "\n",
    "# Initialize Pinecone\n",
    "\n",
    "\n",
    "# Load embedding model\n",
    "embedding_model = SentenceTransformer('all-MiniLM-L6-v2')"
   ]
  },
  {
   "cell_type": "markdown",
   "metadata": {},
   "source": []
  },
  {
   "cell_type": "code",
   "execution_count": 33,
   "metadata": {},
   "outputs": [
    {
     "name": "stdout",
     "output_type": "stream",
     "text": [
      "Loaded 9 documents.\n",
      "Loaded 9 metadata entries.\n",
      "Metadata: Doc 1: Synopsis Architect-Engineer (A-E) Services Indefinite Delivery/Indefinite Quantity (IDIQ) Contract For, Distance: 1.59644615650177, Document: Synopsis Architect-Engineer (A-E) Services Indefinite Delivery/Indefinite Quantity (IDIQ) Contract F...\n",
      "Metadata: Doc 8:Name: Abhinav Kasubojula Internship Company: Kenall inc Role: AI Intern, Distance: 1.6353421211242676, Document: Name: Abhinav Kasubojula Internship Company: Kenall inc Role: AI Intern Internship Supervisor: Ganes...\n"
     ]
    }
   ],
   "source": [
    "import os\n",
    "import faiss\n",
    "import numpy as np\n",
    "import pickle\n",
    "\n",
    "# Load the FAISS index\n",
    "storage_directory = r'C:\\Users\\AbhinavKasubojula\\OneDrive - Kenall Inc\\Desktop\\code\\stored_data'\n",
    "index = faiss.read_index(os.path.join(storage_directory, 'faiss_index.bin'))\n",
    "\n",
    "# Load document texts\n",
    "with open(os.path.join(storage_directory, 'documents.pkl'), 'rb') as f:\n",
    "    documents = pickle.load(f)\n",
    "\n",
    "# Load metadata\n",
    "with open(os.path.join(storage_directory, 'metadata.pkl'), 'rb') as f:\n",
    "    file_metadata = pickle.load(f)\n",
    "\n",
    "# Ensure documents and metadata are loaded correctly\n",
    "print(f\"Loaded {len(documents)} documents.\")\n",
    "print(f\"Loaded {len(file_metadata)} metadata entries.\")\n",
    "\n",
    "# Function to retrieve text and documents based on a query\n",
    "def retrieve_text_and_doc(query, k=2):\n",
    "    # Step 1: Compute the query embedding\n",
    "    query_embedding = embedding_model.encode([query], convert_to_tensor=False)\n",
    "    \n",
    "    # Check embedding size and FAISS index dimensionality\n",
    "    assert query_embedding.shape[1] == index.d, f\"Embedding size {query_embedding.shape[1]} does not match FAISS index dimensionality {index.d}\"\n",
    "\n",
    "    # Step 2: Perform the search in the FAISS index\n",
    "    distances, indices = index.search(np.array(query_embedding).astype('float32'), k)\n",
    "\n",
    "    # Step 3: Retrieve the corresponding documents and metadata\n",
    "    retrieved_docs = []\n",
    "    retrieved_metadata = []\n",
    "    \n",
    "    for i in indices[0]:\n",
    "        if i < len(documents):\n",
    "            retrieved_docs.append(documents[i])\n",
    "            retrieved_metadata.append(file_metadata[i])\n",
    "        else:\n",
    "            print(f\"Warning: Index {i} is out of range for documents. Total documents: {len(documents)}.\")\n",
    "\n",
    "    return retrieved_docs, retrieved_metadata, distances[0]\n",
    "\n",
    "# Example usage\n",
    "query = input(\"Enter your query: \")\n",
    "retrieved_docs, retrieved_metadata, distances = retrieve_text_and_doc(query)\n",
    "\n",
    "# Join and display retrieved text and metadata\n",
    "retrieved_text = \" \".join(retrieved_docs)\n",
    "\n",
    "for doc, meta, dist in zip(retrieved_docs, retrieved_metadata, distances):\n",
    "    print(f\"Metadata: {meta}, Distance: {dist}, Document: {doc[:100]}...\")\n"
   ]
  },
  {
   "cell_type": "code",
   "execution_count": 34,
   "metadata": {},
   "outputs": [
    {
     "name": "stdout",
     "output_type": "stream",
     "text": [
      "Synopsis Architect-Engineer (A-E) Services Indefinite Delivery/Indefinite Quantity (IDIQ) Contract For Army Facilities Components System (AFCS) 100% Small Business Set Aside W912DQ24R4019\n",
      "1. CONTRACT INFORMATION: This contract is being procured in accordance with 40 U.S.C. Chap 11, Selection of Architects and Engineers (formerly known as the Brooks Architect Engineer) Act as implemented in FAR Subpart 36.6 and DFARS Subpart 236.6. One Firm will be selected for negotiation based on demonstrated competence and qualifications for the required work. This A-E IDC is required to support projects assigned to the Kansas City District (NWK), U.S. Army Corps of Engineers related to the Army Facilities Components System (AFCS). This synopsis has a target of one (1) contract restricted to small business. The total value of all task orders issued to the small business contract will not exceed $20,000,000.00. Under a separate synopsis, a target of one (1) contract will be open to all businesses regardless of size. The total value of all task orders issued to the unrestricted contract will not exceed $20,000,000.00. Both IDCs shall include order limitations such that the contractor shall not be required to honor any order for a single service in excess of $7,000,000.00. If the Contracting Officer determines during the selection process that fewer or more contracts should be awarded, based upon the selection criteria, the Contracting Officer has the discretion of adjusting that number, or awarding none at all. Small business may be considered for both the unrestricted (W912DQ24R4012) and the small business set aside (W912DQ24R4019) contracts. Small business must clearly identify whether they want to be considered for the unrestricted (W912DQ24R4012), the Small Business Set Aside (W912DQ24R4019), or both.\n",
      "The period of performance for this IDC will begin on the date of contract award and the ordering period will be in effect for a five (5) year period. The period of performance for task orders awarded under the SATOC will be determined based upon the work requirement and will be included in the task order solicitations and negotiated task order award documents. Award of this contract is anticipated in the fourth quarter of FY 24.\n",
      "The North American Industry Classification System (NAICS) code for this procurement is 541330 (Engineering Services), which has a small business size standard of $25,500,000 in average annual receipts.\n",
      "The wages and benefits of service employees (see FAR 22.10) performing under this contract must be at least equal to those determined by the Department of Labor under the Service Contract Act. Service wage rates will be determined relative to the employee’s office location rather than the location of work.\n",
      "Firms must have a Unique Entity Identification (UEI) number and be registered in the Department of Defense (DoD) System for Award Management (SAM). If you were not previously registered, please go to https://www.sam.gov. Instructions for new\n",
      "registration are also located at the following link: https://sam.gov/content/entity- registration. Contractors may obtain information on registration and annual confirmation requirements at http://www.sam.gov or by calling (866) 606-8220. Additionally, in accordance with FAR Part 22.1303, all firms must complete their VETS-1442 report. Information can be found at the Department of Labor website http://www.dol.gov/vets/programs/fcp/main.htm, or call the service center at 1-866-237- 0275; you will be asked to provide your company name, employer identification number (EIN), and UEI number.\n",
      "2. PROJECT INFORMATION: The project services involve designing facilities for a contingency environment to initial and temporary doctrinal standards. Familiarity with the Army Facilities Components System (AFCS) and Joint Construction Management System (JCMS), and familiarity with the U.S. Army Engineer Research and Development Center (ERDC) Design Management System (DMS) is desired. Services will include but are not limited to conducting facility review (vetting) sessions, conducting design charrettes, reviewing, revising and developing design documents, construction activities, work elements, bills of materials (BOM), provisioning of national stock numbers (NSN), preparing drawings and design analyses, data modeling and project coordination. Requirements for review and re-design of facilities will include: detail reviews and coordination with the standard proponent to determine current requirements; review and correction of Life Safety Plans; updating facility design packages to current doctrinal standards and UFC 1-201-01; development or revision of architectural plans; design of structural systems (foundations, walls, roof framing); review and revision of mechanical systems (HVAC, plumbing) and electrical systems (lighting, power, panel boxes, alarms).\n",
      "Requirements for the preparation of design analysis will include: development of narratives that describe each facility and intended use, documentation of design criteria, design assumptions, primary features by discipline, calculations, and cut sheets.\n",
      "Requirements for data modeling will include: entering facility data into the ERDC Design Management System (DMS), verifying accuracy and completeness of designs, performing quantity takeoffs, performing quality control, conducting reviews with stakeholders, and incorporating changes as directed.\n",
      "Tasks assigned to the small business IDIQ under contracts for global deployments, include but are not limited to: new vertical construction designed in hard metric units using locally procured construction materials of standard sizes meeting predetermined regional criteria. A-E will be required to develop naming and numbering for newly developed schematics, generally based off existing standards set within a database.\n",
      "3. SELECTION CRITERIA: The selection criteria are listed below in descending order of importance. Criteria ‘a through e’ are primary and will be evaluated for all offerors. Criteria f and g are secondary and will only be used as tie-breakers among firms that\n",
      "are essentially technically equal.\n",
      "a. Specialized experience and technical competence in:\n",
      "1) Designing facilities for a contingency environment to “initial” and “temporary” standards IAW UFC 1-201-01 “Non-Permanent DoD Facilities in Support of Military Operations”. Familiarity with the Army Facilities Components System (AFCS) and Joint Construction Management System (JCMS), and familiarity with the U.S. Army Engineer Research and Development Center (ERDC) Design Management System (DMS) will be given greater consideration. Evaluation will be based on project descriptions in Section F of the SF 330.\n",
      "2) Quality management procedures. The basis of the evaluation will be the description of the firm’s quality management procedures in Section H of the SF 330. A detailed quality control plan is not required with this submission but will be required subsequent to award of the contract.\n",
      "3) Leading design charrettes and conducting customer reviews. Evaluation will be based on project descriptions in Section F of the SF 330.\n",
      "For sub-criteria a.1 and a.3, the basis of evaluation will be the project descriptions in Section F of the SF 330. For sub-criteria a.2, the basis of the evaluation will be the description of the firm’s quality management procedures in Section H of the SF 330. Sub-criteria are in descending order of importance, a.3 is less important than a.2 and a.2 is less important than a.1.\n",
      "b. Professional Qualifications: Responding firms should demonstrate the\n",
      "professional qualifications in these key disciplines:\n",
      "(1) Project manager (2) Architect (3) Structural engineer (4) Mechanical engineer (5) Electrical engineer (6) Civil engineer\n",
      "Additional disciplines required as part of the contract that will not be evaluated include: Data modeler (i.e. data entry technician).\n",
      "The basis of evaluation will be information provided in section E of the SF 330. The SF 330 shall include a matrix in Section G showing experience of the proposed lead disciplines on the projects listed in Section F of the SF 330. The qualifications (education, professional registration, certifications) and experience (overall and relevant experience, longevity with the firm) will be considered. Qualified professionals with active duty military or civilian experience in a contingency environment will be given greater consideration. All disciplines are equal in\n",
      "importance. This criterion is primarily concerned with the qualifications of the key personnel and not the number of personnel. The number of personnel is addressed under the capacity criterion below. The lead personnel for each discipline should be clearly identified in section E. Only one resume (the lead for that discipline) will be evaluated for each discipline.\n",
      "c. Past Performance\n",
      "Recent and relevant past performance on DoD and other contracts with respect to cost control, quality of work, and compliance with performance schedules will be considered. The Contract Performance Assessment Reports System (CPARS) is the primary source of information on past performance. CPARS will be queried for all firms submitting a SF 330. If deemed appropriate by the evaluation board, performance evaluations for any significant teaming partners/subcontractors who have previously been prime A-E contractors may also be considered. Significant teaming partners/subcontractors are those firms whose qualifications are being used in Section F projects. In addition to CPARS, the board may seek information on past performance from other sources. If no recent or relevant performance record is available, or the offeror’s performance record is so sparse that no meaningful confidence assessment rating can be reasonably assigned, the offeror will receive a neutral evaluation. A neutral rating is considered neither a positive nor negative.\n",
      "d. Knowledge of local conditions. Not used.\n",
      "e. Capacity to initiate work and complete within the time parameters of the\n",
      "project.\n",
      "The evaluation will consider the availability of an adequate number of personnel in the following key disciplines: project manager, architects, mechanical engineers, electrical engineers, civil engineers, structural engineers. The evaluation will look at numbers listed in Part II of the SF330 to evaluate the overall capacity of the team. Include a Part II form for each firm that is part of the proposed team.\n",
      "Secondary Selection Criteria. The following secondary criteria will only be used as a tie-breaker among firms that are essentially technically equal. The secondary criteria will not be co-mingled with the primary criteria in the evaluation. The three secondary selection criteria are listed in descending order of importance.\n",
      "f. Volume of DoD AE contract awards in the last 12 months.\n",
      "Responding firms should cite all contract numbers, task orders and modifications,\n",
      "award dates and total negotiated fees for any DoD AE contract awarded within the past twelve (12) months. This information will assist in effecting an equitable distribution of DoD AE contracts among qualified firms. The basis of the evaluation will be information submitted in Section H of the SF 330.\n",
      "4. SUBMITTAL REQUIREMENTS: Interested firms having the capabilities to perform\n",
      "this work must submit one Standard Form (SF) 330 electronic copy using the instructions for the Procurement Integrated Enterprise Environment (PIEE) below no later than 1:00 PM Central Standard Time on 30 May, 2024. Copies of the SF 330, Part II, for the prime firm and all consultants should be included in the SF 330. Only one SF 330 Part I for the team as a whole should be included. Include the firm's Unique Entity ID (UEI) and CAGE CODE identification numbers in SF 330, Part I, Section B, Block 5.\n",
      "A maximum of five (5) projects for the proposed team (including joint ventures and teaming partners) may be shown in Section F. A “project” is defined as work performed at one site or a single installation. An Indefinite Delivery Contract (IDC) will not be considered a “project” for the purposes of evaluation. Individual Task Order contracts awarded from an IDC contract will only be considered as a single project, regardless of the number of facilities and/or the range of the scope of work (i.e. a single Task Order contract cannot be submitted as multiple projects for the submission requirements in this synopsis). If the offeror provides a specific task order as a project, it should provide the base contract number and the task order number for reference purposes. If the offeror provides a site-specific contract as a project, it should provide the contract number for reference purposes. Project descriptions shall clearly state extent of work performed by the team, extent of design completed (for instance, preparation of design- build package; 100% design; etc.), dates of completion for design and construction, and project category type (new/ renovation). Clearly cite whether the experience is that of the prime (or joint venture), consultant or an individual for each project in Section F. Work cited that is experience of the prime (or joint venture) from an office other than that identified in Section C should be so labeled. Projects (or phases of projects) with design completed before May 2018 will not be considered. Projects (or phases of projects) for which design is not complete will not be considered.\n",
      "Firms may demonstrate additional experience with projects similar to the requirements listed in section 2 by providing a project summary list or matrix within Section H. The additional projects will not be evaluated but will be utilized for future task order selections and minimize the need for requesting supplemental information. The project summary list or matrix is limited to 2-pages within Section H and projects must meet the “project” requirements indicated in section 4.\n",
      "Interviews will be held with the most highly qualified firms. Interviews will be conducted telephonically after determination of the most highly qualified firms.\n",
      "Interested firms are reminded, per FAR 36.606, that subcontractors, outside associates, and consultants whose qualifications are utilized for selection and negotiated for award may not be changed without obtaining the Contracting Officer’s written consent before making any substitutions.\n",
      "The SF 330 should have a total page limitation of 150 pages with Section H limited to twenty (20) pages. Each project in Section F should be limited to two (2) pages; Part II is excluded from the 150-page limit. Graphic sheets, like organization charts, of 11\n",
      "inches X 17 inches will be counted as a single page. Tabs do not count against the page count limit, but information contained on divider tabs will not be evaluated. For all SF 330 sections, use no smaller than 11 point font. Note: this is not a request for proposal. Submit electronic responses utilizing the instructions in section 6 below.\n",
      "5. QUESTIONS:\n",
      "Technical inquiries and questions relating to this synopsis shall be submitted via Bidder Inquiry in ProjNet at (https://www.projnet.org). To submit and review inquiry items, prospective offerors will need to use the Bidder Inquiry Key presented below and follow the instructions listed below the key for access. A prospective offeror who submits a comment /question will receive an acknowledgement of their comment/question via email. Another email to the same address will notify the prospective offeror once the reply is available for viewing.\n",
      "***Please Note: Offerors shall only submit one question per inquiry. All inquiries containing multiple questions shall be rejected.\n",
      "Project Title: AFCS IDIQ Bidder Inquiry Key: NRZ3YH-HIHM7W\n",
      "The Bidder Inquiry System will be unavailable for new inquiries ten calendar days before the due date of SF 330’s, in order to, ensure adequate time is allotted to form an appropriate response to inquiries and amend the synopsis if necessary.\n",
      "Offerors are requested to review the synopsis in its entirety and review the Bidder Inquiry System for answers to questions prior to submission of a new inquiry.\n",
      "The ProjNet call center operates weekdays from 8AM to 5PM U.S. Central Time Zone (Chicago) or by appointment for OCONUS. The telephone number for the Call Center is 1-800-428-HELP. Email to staff@rcesupport.com.\n",
      "Instructions for first-time ProjNet Bid Inquiry Access:\n",
      "1. From the ProjNet home page linked above, click on Quick Add on the upper right side of the screen.\n",
      "2. Identify the Agency. Select agency USACE 3. Enter the Bidder Inquiry Key listed above. 4. Enter the email address you would like to use for communication. 5. Click Continue. A page will then open saying that a user account was not found and will ask you to create one using the provided form.\n",
      "6. Enter your First Name, Last Name, Company, City, State, Phone, Email, Secret Question, Secret Answer, and Time Zone. Make sure to remember your Secret Question and Answer as they will be used from this point on to access the ProjNet system.\n",
      "7. Click Add User. Once this is completed you are now registered within ProjNet and are currently logged into the system.\n",
      "Instructions for future ProjNet Bidder Inquiry Access:\n",
      "1. For future access to ProjNet, you will not be provided any type of password. You will utilize your Secret Question and Secret Answer to log in.\n",
      "2. From the ProjNet home page linked above, click on Quick Add on the upper right side of the screen.\n",
      "3. Identify the Agency. Select agency USACE. 4. Key. Enter the Bidder Inquiry Key listed above. 5. Email. Enter the email address you used to register previously in ProjNet. 6. Click Continue. A page will then open asking you to enter the answer to your Secret Question.\n",
      "7. Enter your Secret Answer and click Login. Once this is completed you are now logged into the system.\n",
      "6. INSTRUCTIONS FOR SUBMITTING ELECTRONIC SF 330’S\n",
      "All firms are required to submit their SF 330s with the minimum content as specified above. SF 330s without the minimum content may be rejected. SF 330s will be received until the date and time indicated above.\n",
      "ELECTRONIC SF 330 SUBMISSION IS REQUIRED THROUGH PIEE Solicitation Module at https://piee.eb.mil/.\n",
      "Training and instructions are accessible through PIEE – Web Based Training (WBT) at https://pieetraining.eb.mil/wbt/ (For instructions specific to posting an offer, select ‘Solicitation Module’ -- ‘Proposals (Offers)’ – ‘Posting Offer’)\n",
      "For Frequently Asked Questions (FAQs) and additional training, go to the DoD Procurement Toolbox – eBusiness -- Solicitation Module at https://dodprocurementtoolbox.com/site-pages/solicitation-module\n",
      "Although you can search, review, and open non-restricted solicitations without logging in, you must establish a personal account in the system and register for the Proposal Manager role before you are able to submit your firm’s SF 330. This account is activated by your Contractor Administrator (CAM).\n",
      "Instructions for registering are as follows:\n",
      "1. Navigate to https://piee.eb.mil/ 2. Select New User [top right] 3. Select Register 4. Select Vendor\n",
      "5. Create a User ID and Password and follow the prompts [next] 6. Create Security Questions [next] 7. Complete your User Profile Information [next] 8. Complete your Supervisor or Approving Official Information. This official will act as the CAM who will ultimately approve your account. [next]\n",
      "9. Complete Roles - Step 1. Select SOL-Solicitation, Step 2. Select Proposal Manager, Step 3. Click Add Roles, Step 4. Fill in your Location Code (CAGE code) [next]\n",
      "10. Provide a justification for your registration [next]\n",
      "VERIFY ACCOUNT STATUS/CAPABILITIES. Once the Proposal Manager account has been approved, verify that your account is showing active under the profile page. Also, once you click on the specified solicitation, verify that the “Offer” tab is visible next to the “Solicitation” tab at the top of the page. The SF 330 will be submitted through the “Offer” tab. It is imperative that this is verified early in the process in order to mitigate any potential problems with the submission of your proposal.\n",
      "For questions concerning your account, please contact the Helpdesk at 866-618-5988. If you are still experiencing problems after the above referenced efforts have been made, please contact the Contract Specialist / Contracting Officer immediately.\n",
      "In the unlikely event the PIEE system and/or Solicitation Module is not operational, and the offeror is unable to access or use the system, the Offeror shall immediately notify the Contracting Officer, Michael France, michael.g.france@usace.army.mil and Contracting Specialist, Dale Coleman, dale.e.coleman@usace.army.mil. Notification must occur prior to the submission deadline and shall be in writing through authorized email identified in the solicitation. If an alternate method for offer submission is authorized via email due to system outages, the Offeror must obtain prior approval from the Contracting Officer to use the alternate submission method.\n",
      "Ensure all documentation submitted meets supported file extensions identified in PIEE FAQs. Narrative portions of the offer shall be in Adobe Acrobat Portable Document Format (PDF) searchable text format. Embedded sound or video (e.g., MPEG) files are not authorized and shall not be included.\n",
      "Primary Point of Contact: Dale Coleman Contract Specialist dale.e.coleman@usace.army.mil Name: Abhinav Kasubojula Internship Company: Kenall inc Role: AI Intern Internship Supervisor: Ganesh Raju College/University: New England College\n",
      "Internship Reflection\n",
      "My internship experience focused on developing an advanced application using machine learning models, particularly leveraging the capabilities of Ollama and Pinecone for enhanced performance. Overall, I would rate my internship experience as highly rewarding. The hands-on approach allowed me to bridge the gap between theoretical knowledge acquired in my coursework and practical applications in real-world scenarios.\n",
      "One of the most positive aspects of my work was the significant improvement in response time achieved by transitioning from Hugging Face to Ollama. Initially, using the Hugging Face pipeline resulted in a staggering 20-minute wait for model responses, which created a bottleneck in user interactions. By implementing Ollama through Docker, response times decreased to just 2 minutes. This efficiency greatly enhanced user experience and validated the importance of selecting appropriate tools for machine learning applications. Additionally, I appreciated the collaborative environment fostered by my peers and supervisors, who provided invaluable insights and support throughout the project. This teamwork cultivated a culture of knowledge sharing, enabling me to learn from the diverse experiences of my colleagues.\n",
      "However, the internship was not without its challenges. At times, managing multiple components, such as integrating Pinecone with Ollama and developing a user interface using Streamlit, felt overwhelming. The need to address various issues simultaneously led to moments of stress, particularly when deadlines approached. Furthermore, while the breadth of projects was advantageous for skill development, it occasionally left little room for in-depth exploration of specific topics, which hindered my ability to master certain skills fully.\n",
      "This internship directly applied to my education and training at NEC by allowing me to utilize the concepts of Python and database management learned in class in a practical setting. For instance, the skills I developed in Python were crucial when writing scripts to integrate various components of the application, while my knowledge of database management facilitated the effective use of Pinecone as a vector database for storing and retrieving embeddings. Overall, this internship was a transformative experience, enriching my education and equipping me with essential skills for my future career in technology.\n",
      "Prepared by: Abhinav Kasubojula\n"
     ]
    }
   ],
   "source": [
    "retrived_text = \" \".join(retrieved_docs)\n",
    "print(retrived_text)"
   ]
  },
  {
   "cell_type": "code",
   "execution_count": 35,
   "metadata": {},
   "outputs": [
    {
     "name": "stdout",
     "output_type": "stream",
     "text": [
      "Model response: Based on the text, it appears that there is no mention of establishing a \"communication pathway\" as the first step. However, I can try to help you with the actual first step mentioned in the instructions.\n",
      "\n",
      "According to the text, the first step is:\n",
      "\n",
      "1. Navigate to https://piee.eb.mil/\n"
     ]
    }
   ],
   "source": [
    "import requests\n",
    "import json\n",
    "\n",
    "# Initialize an empty list to store previous questions and answers\n",
    "memory = []\n",
    "\n",
    "# Pinecone text retrieval part (you've done this)\n",
    "def generate_response(cx, q):\n",
    "    global memory\n",
    "\n",
    "    # Retrieved text as context from Pinecone\n",
    "    retrieved_text = cx\n",
    "\n",
    "    # Prepare the prompt with memory of past interactions\n",
    "    memory_prompt = \"\\n\".join(memory)  # Join the previous interactions\n",
    "    question = q\n",
    "    prompt = f\"Here is some context:\\n{retrieved_text}\\n{memory_prompt}\\n\\nNow, based on this, can you answer the following question: {question}\"\n",
    "\n",
    "    # Ollama API call to generate a response\n",
    "    url = \"http://localhost:11434/api/generate\"\n",
    "    headers = {\"Content-Type\": \"application/json\"}\n",
    "    data = {\n",
    "        \"model\": \"llama3.1:latest\",\n",
    "        \"prompt\": prompt,\n",
    "        \"stream\": False  # Disable streaming\n",
    "    }\n",
    "\n",
    "    response = requests.post(url, headers=headers, data=json.dumps(data))\n",
    "\n",
    "    # Check the response from the model\n",
    "    if response.status_code == 200:\n",
    "        result = response.json()\n",
    "        ans = result['response']\n",
    "        print(\"Model response:\", ans)\n",
    "\n",
    "        # Store the current question and answer in memory\n",
    "        memory.append(f\"Q: {question}\\nA: {ans}\")\n",
    "        if len(memory) > 5:  \n",
    "            memory = memory[-5:]\n",
    "\n",
    "        return ans\n",
    "    else:\n",
    "        print(\"Error:\", response.text)\n",
    "        return None\n",
    "\n",
    "# Example usage:\n",
    "context = retrived_text\n",
    "question = query\n",
    "answer = generate_response(context, question)\n"
   ]
  },
  {
   "cell_type": "code",
   "execution_count": null,
   "metadata": {},
   "outputs": [],
   "source": []
  },
  {
   "cell_type": "markdown",
   "metadata": {},
   "source": []
  },
  {
   "cell_type": "code",
   "execution_count": 4,
   "metadata": {},
   "outputs": [],
   "source": [
    "answer = generate_response(\"did you remember your last 3 responses?\", \"?\")"
   ]
  },
  {
   "cell_type": "code",
   "execution_count": 5,
   "metadata": {},
   "outputs": [
    {
     "name": "stdout",
     "output_type": "stream",
     "text": [
      "notice id of solicitation W912EP22R0042. give me contract details\n"
     ]
    }
   ],
   "source": [
    "print(query)"
   ]
  }
 ],
 "metadata": {
  "kernelspec": {
   "display_name": "myenv",
   "language": "python",
   "name": "python3"
  },
  "language_info": {
   "codemirror_mode": {
    "name": "ipython",
    "version": 3
   },
   "file_extension": ".py",
   "mimetype": "text/x-python",
   "name": "python",
   "nbconvert_exporter": "python",
   "pygments_lexer": "ipython3",
   "version": "3.12.4"
  }
 },
 "nbformat": 4,
 "nbformat_minor": 2
}
